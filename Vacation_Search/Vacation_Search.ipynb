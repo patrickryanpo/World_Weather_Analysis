{
 "cells": [
  {
   "cell_type": "code",
   "execution_count": 2,
   "metadata": {},
   "outputs": [],
   "source": [
    "# Dependencies and Setup\n",
    "import pandas as pd\n",
    "import requests\n",
    "import gmaps\n",
    "\n",
    "# Import API key\n",
    "from config import g_key\n",
    "\n",
    "# Configure gmaps API key\n",
    "gmaps.configure(api_key=g_key)"
   ]
  },
  {
   "cell_type": "markdown",
   "metadata": {},
   "source": [
    "## Deliverable 2. Create a Customer Travel Destinations Map."
   ]
  },
  {
   "cell_type": "code",
   "execution_count": 3,
   "metadata": {},
   "outputs": [
    {
     "output_type": "execute_result",
     "data": {
      "text/plain": [
       "   City_ID            City Country    Lat     Lng  Max Temp  Humidity  \\\n",
       "0        0          Barrow      US  71.29 -156.79     -0.40        77   \n",
       "1        1       Carnarvon      AU -24.87  113.63     87.80        55   \n",
       "2        2        Hermanus      ZA -34.42   19.23     79.00        55   \n",
       "3        3           Bluff      NZ -46.60  168.33     55.00        80   \n",
       "4        4  Saint-Francois      FR  46.42    3.91     44.01        70   \n",
       "\n",
       "   Cloudiness  Wind Speed Current Description  \n",
       "0          90        9.17     overcast clouds  \n",
       "1          55       12.75       broken clouds  \n",
       "2           0        7.00           clear sky  \n",
       "3           0        1.01           clear sky  \n",
       "4          40        9.17    scattered clouds  "
      ],
      "text/html": "<div>\n<style scoped>\n    .dataframe tbody tr th:only-of-type {\n        vertical-align: middle;\n    }\n\n    .dataframe tbody tr th {\n        vertical-align: top;\n    }\n\n    .dataframe thead th {\n        text-align: right;\n    }\n</style>\n<table border=\"1\" class=\"dataframe\">\n  <thead>\n    <tr style=\"text-align: right;\">\n      <th></th>\n      <th>City_ID</th>\n      <th>City</th>\n      <th>Country</th>\n      <th>Lat</th>\n      <th>Lng</th>\n      <th>Max Temp</th>\n      <th>Humidity</th>\n      <th>Cloudiness</th>\n      <th>Wind Speed</th>\n      <th>Current Description</th>\n    </tr>\n  </thead>\n  <tbody>\n    <tr>\n      <th>0</th>\n      <td>0</td>\n      <td>Barrow</td>\n      <td>US</td>\n      <td>71.29</td>\n      <td>-156.79</td>\n      <td>-0.40</td>\n      <td>77</td>\n      <td>90</td>\n      <td>9.17</td>\n      <td>overcast clouds</td>\n    </tr>\n    <tr>\n      <th>1</th>\n      <td>1</td>\n      <td>Carnarvon</td>\n      <td>AU</td>\n      <td>-24.87</td>\n      <td>113.63</td>\n      <td>87.80</td>\n      <td>55</td>\n      <td>55</td>\n      <td>12.75</td>\n      <td>broken clouds</td>\n    </tr>\n    <tr>\n      <th>2</th>\n      <td>2</td>\n      <td>Hermanus</td>\n      <td>ZA</td>\n      <td>-34.42</td>\n      <td>19.23</td>\n      <td>79.00</td>\n      <td>55</td>\n      <td>0</td>\n      <td>7.00</td>\n      <td>clear sky</td>\n    </tr>\n    <tr>\n      <th>3</th>\n      <td>3</td>\n      <td>Bluff</td>\n      <td>NZ</td>\n      <td>-46.60</td>\n      <td>168.33</td>\n      <td>55.00</td>\n      <td>80</td>\n      <td>0</td>\n      <td>1.01</td>\n      <td>clear sky</td>\n    </tr>\n    <tr>\n      <th>4</th>\n      <td>4</td>\n      <td>Saint-Francois</td>\n      <td>FR</td>\n      <td>46.42</td>\n      <td>3.91</td>\n      <td>44.01</td>\n      <td>70</td>\n      <td>40</td>\n      <td>9.17</td>\n      <td>scattered clouds</td>\n    </tr>\n  </tbody>\n</table>\n</div>"
     },
     "metadata": {},
     "execution_count": 3
    }
   ],
   "source": [
    "# 1. Import the WeatherPy_database.csv file. \n",
    "city_data_df = pd.read_csv(\"../Weather_Database/WeatherPy_database.csv\")\n",
    "city_data_df.head()"
   ]
  },
  {
   "cell_type": "code",
   "execution_count": 4,
   "metadata": {},
   "outputs": [],
   "source": [
    "# 2. Prompt the user to enter minimum and maximum temperature criteria \n",
    "min_temp = float(input(\"What is the minimum temperature you would like for your trip?\"))\n",
    "max_temp = float(input(\"What is the maximum temperature you would like for your trip?\"))"
   ]
  },
  {
   "cell_type": "code",
   "execution_count": 5,
   "metadata": {},
   "outputs": [
    {
     "output_type": "error",
     "ename": "NameError",
     "evalue": "name 'max_temp' is not defined",
     "traceback": [
      "\u001b[0;31m---------------------------------------------------------------------------\u001b[0m",
      "\u001b[0;31mNameError\u001b[0m                                 Traceback (most recent call last)",
      "\u001b[0;32m<ipython-input-5-d8e9fbae13a5>\u001b[0m in \u001b[0;36m<module>\u001b[0;34m\u001b[0m\n\u001b[1;32m      1\u001b[0m \u001b[0;31m# 3. Filter the city_data_df DataFrame using the input statements to create a new DataFrame using the loc method.\u001b[0m\u001b[0;34m\u001b[0m\u001b[0;34m\u001b[0m\u001b[0;34m\u001b[0m\u001b[0m\n\u001b[0;32m----> 2\u001b[0;31m \u001b[0mpreferred_cities_df\u001b[0m \u001b[0;34m=\u001b[0m \u001b[0mcity_data_df\u001b[0m\u001b[0;34m.\u001b[0m\u001b[0mloc\u001b[0m\u001b[0;34m[\u001b[0m\u001b[0;34m(\u001b[0m\u001b[0mcity_data_df\u001b[0m\u001b[0;34m[\u001b[0m\u001b[0;34m\"Max Temp\"\u001b[0m\u001b[0;34m]\u001b[0m \u001b[0;34m<=\u001b[0m \u001b[0mmax_temp\u001b[0m\u001b[0;34m)\u001b[0m\u001b[0;34m&\u001b[0m\u001b[0;34m(\u001b[0m\u001b[0mcity_data_df\u001b[0m\u001b[0;34m[\u001b[0m\u001b[0;34m\"Max Temp\"\u001b[0m\u001b[0;34m]\u001b[0m \u001b[0;34m>=\u001b[0m \u001b[0mmin_temp\u001b[0m\u001b[0;34m)\u001b[0m\u001b[0;34m]\u001b[0m\u001b[0;34m\u001b[0m\u001b[0;34m\u001b[0m\u001b[0m\n\u001b[0m\u001b[1;32m      3\u001b[0m \u001b[0;34m\u001b[0m\u001b[0m\n\u001b[1;32m      4\u001b[0m \u001b[0mpreferred_cities_df\u001b[0m\u001b[0;34m.\u001b[0m\u001b[0mhead\u001b[0m\u001b[0;34m(\u001b[0m\u001b[0;36m10\u001b[0m\u001b[0;34m)\u001b[0m\u001b[0;34m\u001b[0m\u001b[0;34m\u001b[0m\u001b[0m\n",
      "\u001b[0;31mNameError\u001b[0m: name 'max_temp' is not defined"
     ]
    }
   ],
   "source": [
    "# 3. Filter the city_data_df DataFrame using the input statements to create a new DataFrame using the loc method.\n",
    "preferred_cities_df = city_data_df.loc[(city_data_df[\"Max Temp\"] <= max_temp)&(city_data_df[\"Max Temp\"] >= min_temp)]\n",
    "\n",
    "preferred_cities_df.head(10)"
   ]
  },
  {
   "cell_type": "code",
   "execution_count": 4,
   "metadata": {},
   "outputs": [
    {
     "output_type": "error",
     "ename": "NameError",
     "evalue": "name 'preferred_cities_df' is not defined",
     "traceback": [
      "\u001b[0;31m---------------------------------------------------------------------------\u001b[0m",
      "\u001b[0;31mNameError\u001b[0m                                 Traceback (most recent call last)",
      "\u001b[0;32m<ipython-input-4-27cb142dfca5>\u001b[0m in \u001b[0;36m<module>\u001b[0;34m\u001b[0m\n\u001b[0;32m----> 1\u001b[0;31m \u001b[0mpreferred_cities_df\u001b[0m\u001b[0;34m.\u001b[0m\u001b[0mdtypes\u001b[0m\u001b[0;34m\u001b[0m\u001b[0;34m\u001b[0m\u001b[0m\n\u001b[0m",
      "\u001b[0;31mNameError\u001b[0m: name 'preferred_cities_df' is not defined"
     ]
    }
   ],
   "source": [
    "preferred_cities_df.dtypes"
   ]
  },
  {
   "cell_type": "code",
   "execution_count": 27,
   "metadata": {},
   "outputs": [
    {
     "output_type": "execute_result",
     "data": {
      "text/plain": [
       "City_ID                531\n",
       "City                   531\n",
       "Country                528\n",
       "Lat                    531\n",
       "Lng                    531\n",
       "Max Temp               531\n",
       "Humidity               531\n",
       "Cloudiness             531\n",
       "Wind Speed             531\n",
       "Current Description    531\n",
       "dtype: int64"
      ]
     },
     "metadata": {},
     "execution_count": 27
    }
   ],
   "source": [
    "# 4a. Determine if there are any empty rows.\n",
    "preferred_cities_df.notnull().sum()"
   ]
  },
  {
   "cell_type": "code",
   "execution_count": 28,
   "metadata": {},
   "outputs": [],
   "source": [
    "# 4b. Drop any empty rows and create a new DataFrame that doesn’t have empty rows.\n",
    "clean_pref_df = preferred_cities_df.dropna()"
   ]
  },
  {
   "cell_type": "code",
   "execution_count": 29,
   "metadata": {},
   "outputs": [
    {
     "output_type": "execute_result",
     "data": {
      "text/plain": [
       "City_ID                528\n",
       "City                   528\n",
       "Country                528\n",
       "Lat                    528\n",
       "Lng                    528\n",
       "Max Temp               528\n",
       "Humidity               528\n",
       "Cloudiness             528\n",
       "Wind Speed             528\n",
       "Current Description    528\n",
       "dtype: int64"
      ]
     },
     "metadata": {},
     "execution_count": 29
    }
   ],
   "source": [
    "clean_pref_df.count()"
   ]
  },
  {
   "cell_type": "code",
   "execution_count": 31,
   "metadata": {},
   "outputs": [
    {
     "output_type": "execute_result",
     "data": {
      "text/plain": [
       "               City Country  Max Temp Current Description    Lat     Lng  \\\n",
       "1         Carnarvon      AU     87.80       broken clouds -24.87  113.63   \n",
       "2          Hermanus      ZA     79.00           clear sky -34.42   19.23   \n",
       "3             Bluff      NZ     55.00           clear sky -46.60  168.33   \n",
       "4    Saint-Francois      FR     44.01    scattered clouds  46.42    3.91   \n",
       "5            Albany      US     35.01     overcast clouds  42.60  -73.97   \n",
       "6       Centerville      US     39.99       broken clouds  39.63  -84.16   \n",
       "8    Saint-Philippe      RE     86.00          light rain -21.36   55.77   \n",
       "11      Port Alfred      ZA     73.99     overcast clouds -33.59   26.89   \n",
       "12     Punta Arenas      CL     48.20           clear sky -53.15  -70.92   \n",
       "13  Bambous Virieux      MU     82.40       broken clouds -20.34   57.76   \n",
       "\n",
       "   Hotel Name  \n",
       "1              \n",
       "2              \n",
       "3              \n",
       "4              \n",
       "5              \n",
       "6              \n",
       "8              \n",
       "11             \n",
       "12             \n",
       "13             "
      ],
      "text/html": "<div>\n<style scoped>\n    .dataframe tbody tr th:only-of-type {\n        vertical-align: middle;\n    }\n\n    .dataframe tbody tr th {\n        vertical-align: top;\n    }\n\n    .dataframe thead th {\n        text-align: right;\n    }\n</style>\n<table border=\"1\" class=\"dataframe\">\n  <thead>\n    <tr style=\"text-align: right;\">\n      <th></th>\n      <th>City</th>\n      <th>Country</th>\n      <th>Max Temp</th>\n      <th>Current Description</th>\n      <th>Lat</th>\n      <th>Lng</th>\n      <th>Hotel Name</th>\n    </tr>\n  </thead>\n  <tbody>\n    <tr>\n      <th>1</th>\n      <td>Carnarvon</td>\n      <td>AU</td>\n      <td>87.80</td>\n      <td>broken clouds</td>\n      <td>-24.87</td>\n      <td>113.63</td>\n      <td></td>\n    </tr>\n    <tr>\n      <th>2</th>\n      <td>Hermanus</td>\n      <td>ZA</td>\n      <td>79.00</td>\n      <td>clear sky</td>\n      <td>-34.42</td>\n      <td>19.23</td>\n      <td></td>\n    </tr>\n    <tr>\n      <th>3</th>\n      <td>Bluff</td>\n      <td>NZ</td>\n      <td>55.00</td>\n      <td>clear sky</td>\n      <td>-46.60</td>\n      <td>168.33</td>\n      <td></td>\n    </tr>\n    <tr>\n      <th>4</th>\n      <td>Saint-Francois</td>\n      <td>FR</td>\n      <td>44.01</td>\n      <td>scattered clouds</td>\n      <td>46.42</td>\n      <td>3.91</td>\n      <td></td>\n    </tr>\n    <tr>\n      <th>5</th>\n      <td>Albany</td>\n      <td>US</td>\n      <td>35.01</td>\n      <td>overcast clouds</td>\n      <td>42.60</td>\n      <td>-73.97</td>\n      <td></td>\n    </tr>\n    <tr>\n      <th>6</th>\n      <td>Centerville</td>\n      <td>US</td>\n      <td>39.99</td>\n      <td>broken clouds</td>\n      <td>39.63</td>\n      <td>-84.16</td>\n      <td></td>\n    </tr>\n    <tr>\n      <th>8</th>\n      <td>Saint-Philippe</td>\n      <td>RE</td>\n      <td>86.00</td>\n      <td>light rain</td>\n      <td>-21.36</td>\n      <td>55.77</td>\n      <td></td>\n    </tr>\n    <tr>\n      <th>11</th>\n      <td>Port Alfred</td>\n      <td>ZA</td>\n      <td>73.99</td>\n      <td>overcast clouds</td>\n      <td>-33.59</td>\n      <td>26.89</td>\n      <td></td>\n    </tr>\n    <tr>\n      <th>12</th>\n      <td>Punta Arenas</td>\n      <td>CL</td>\n      <td>48.20</td>\n      <td>clear sky</td>\n      <td>-53.15</td>\n      <td>-70.92</td>\n      <td></td>\n    </tr>\n    <tr>\n      <th>13</th>\n      <td>Bambous Virieux</td>\n      <td>MU</td>\n      <td>82.40</td>\n      <td>broken clouds</td>\n      <td>-20.34</td>\n      <td>57.76</td>\n      <td></td>\n    </tr>\n  </tbody>\n</table>\n</div>"
     },
     "metadata": {},
     "execution_count": 31
    }
   ],
   "source": [
    "# 5a. Create DataFrame called hotel_df to store hotel names along with city, country, max temp, and coordinates.\n",
    "hotel_df = clean_pref_df[[\"City\", \"Country\", \"Max Temp\", \"Current Description\", \"Lat\", \"Lng\"]].copy()\n",
    "\n",
    "# 5b. Create a new column \"Hotel Name\"\n",
    "hotel_df[\"Hotel Name\"] = \"\"\n",
    "hotel_df.head(10)"
   ]
  },
  {
   "cell_type": "code",
   "execution_count": 32,
   "metadata": {},
   "outputs": [
    {
     "output_type": "stream",
     "name": "stdout",
     "text": [
      "Hotel not found... skipping.\n",
      "Hotel not found... skipping.\n",
      "Hotel not found... skipping.\n",
      "Hotel not found... skipping.\n",
      "Hotel not found... skipping.\n",
      "Hotel not found... skipping.\n",
      "Hotel not found... skipping.\n",
      "Hotel not found... skipping.\n",
      "Hotel not found... skipping.\n",
      "Hotel not found... skipping.\n",
      "Hotel not found... skipping.\n",
      "Hotel not found... skipping.\n",
      "Hotel not found... skipping.\n",
      "Hotel not found... skipping.\n",
      "Hotel not found... skipping.\n",
      "Hotel not found... skipping.\n",
      "Hotel not found... skipping.\n",
      "Hotel not found... skipping.\n",
      "Hotel not found... skipping.\n",
      "Hotel not found... skipping.\n",
      "Hotel not found... skipping.\n",
      "Hotel not found... skipping.\n",
      "Hotel not found... skipping.\n",
      "Hotel not found... skipping.\n",
      "Hotel not found... skipping.\n",
      "Hotel not found... skipping.\n",
      "Hotel not found... skipping.\n",
      "Hotel not found... skipping.\n",
      "Hotel not found... skipping.\n",
      "Hotel not found... skipping.\n",
      "Hotel not found... skipping.\n",
      "Hotel not found... skipping.\n",
      "Hotel not found... skipping.\n"
     ]
    }
   ],
   "source": [
    "# 6a. Set parameters to search for hotels with 5000 meters.\n",
    "params = {\n",
    "    \"radius\": 5000,\n",
    "    \"type\": \"lodging\",\n",
    "    \"key\": g_key}\n",
    "\n",
    "# 6b. Iterate through the hotel DataFrame.\n",
    "for index, row in hotel_df.iterrows():\n",
    "    # 6c. Get latitude and longitude from DataFrame\n",
    "    lat = row[\"Lat\"]\n",
    "    lng = row[\"Lng\"]\n",
    "\n",
    "    params[\"location\"] = f\"{lat},{lng}\"\n",
    "   \n",
    "    # 6d. Set up the base URL for the Google Directions API to get JSON data.\n",
    "    base_url = \"https://maps.googleapis.com/maps/api/place/nearbysearch/json\"\n",
    "\n",
    "    # 6e. Make request and retrieve the JSON data from the search. \n",
    "    hotels = requests.get(base_url, params=params).json()\n",
    "    \n",
    "    # 6f. Get the first hotel from the results and store the name, if a hotel isn't found skip the city.\n",
    "    try:\n",
    "        hotel_df.loc[index, \"Hotel Name\"] = hotels[\"results\"][0][\"name\"]\n",
    "    except(IndexError):\n",
    "        print(\"Hotel not found... skipping.\")"
   ]
  },
  {
   "cell_type": "code",
   "execution_count": 34,
   "metadata": {},
   "outputs": [
    {
     "output_type": "execute_result",
     "data": {
      "text/plain": [
       "City                   528\n",
       "Country                528\n",
       "Max Temp               528\n",
       "Current Description    528\n",
       "Lat                    528\n",
       "Lng                    528\n",
       "Hotel Name             528\n",
       "dtype: int64"
      ]
     },
     "metadata": {},
     "execution_count": 34
    }
   ],
   "source": [
    "# Check for empty cells\n",
    "hotel_df.count()"
   ]
  },
  {
   "cell_type": "code",
   "execution_count": 7,
   "metadata": {},
   "outputs": [
    {
     "output_type": "execute_result",
     "data": {
      "text/plain": [
       "   City_ID            City Country  Max Temp Current Description    Lat  \\\n",
       "0        1       Carnarvon      AU     87.80       broken clouds -24.87   \n",
       "1        2        Hermanus      ZA     79.00           clear sky -34.42   \n",
       "2        3           Bluff      NZ     55.00           clear sky -46.60   \n",
       "3        4  Saint-Francois      FR     44.01    scattered clouds  46.42   \n",
       "4        5          Albany      US     35.01     overcast clouds  42.60   \n",
       "\n",
       "      Lng                                     Hotel Name  \n",
       "0  113.63                          Hospitality Carnarvon  \n",
       "1   19.23                     Misty Waves Boutique Hotel  \n",
       "2  168.33  Bluff Homestead - Guesthouse & Campervan Park  \n",
       "3    3.91                              Manoir Du Bonheur  \n",
       "4  -73.97                                            NaN  "
      ],
      "text/html": "<div>\n<style scoped>\n    .dataframe tbody tr th:only-of-type {\n        vertical-align: middle;\n    }\n\n    .dataframe tbody tr th {\n        vertical-align: top;\n    }\n\n    .dataframe thead th {\n        text-align: right;\n    }\n</style>\n<table border=\"1\" class=\"dataframe\">\n  <thead>\n    <tr style=\"text-align: right;\">\n      <th></th>\n      <th>City_ID</th>\n      <th>City</th>\n      <th>Country</th>\n      <th>Max Temp</th>\n      <th>Current Description</th>\n      <th>Lat</th>\n      <th>Lng</th>\n      <th>Hotel Name</th>\n    </tr>\n  </thead>\n  <tbody>\n    <tr>\n      <th>0</th>\n      <td>1</td>\n      <td>Carnarvon</td>\n      <td>AU</td>\n      <td>87.80</td>\n      <td>broken clouds</td>\n      <td>-24.87</td>\n      <td>113.63</td>\n      <td>Hospitality Carnarvon</td>\n    </tr>\n    <tr>\n      <th>1</th>\n      <td>2</td>\n      <td>Hermanus</td>\n      <td>ZA</td>\n      <td>79.00</td>\n      <td>clear sky</td>\n      <td>-34.42</td>\n      <td>19.23</td>\n      <td>Misty Waves Boutique Hotel</td>\n    </tr>\n    <tr>\n      <th>2</th>\n      <td>3</td>\n      <td>Bluff</td>\n      <td>NZ</td>\n      <td>55.00</td>\n      <td>clear sky</td>\n      <td>-46.60</td>\n      <td>168.33</td>\n      <td>Bluff Homestead - Guesthouse &amp; Campervan Park</td>\n    </tr>\n    <tr>\n      <th>3</th>\n      <td>4</td>\n      <td>Saint-Francois</td>\n      <td>FR</td>\n      <td>44.01</td>\n      <td>scattered clouds</td>\n      <td>46.42</td>\n      <td>3.91</td>\n      <td>Manoir Du Bonheur</td>\n    </tr>\n    <tr>\n      <th>4</th>\n      <td>5</td>\n      <td>Albany</td>\n      <td>US</td>\n      <td>35.01</td>\n      <td>overcast clouds</td>\n      <td>42.60</td>\n      <td>-73.97</td>\n      <td>NaN</td>\n    </tr>\n  </tbody>\n</table>\n</div>"
     },
     "metadata": {},
     "execution_count": 7
    }
   ],
   "source": [
    "vacation_df = pd.read_csv(\"WeatherPy_vacation.csv\")\n",
    "vacation_df.head()"
   ]
  },
  {
   "cell_type": "code",
   "execution_count": 9,
   "metadata": {},
   "outputs": [],
   "source": [
    "# 7. Drop the rows where there is no Hotel Name.\n",
    "clean_hotel_df = vacation_df.dropna()"
   ]
  },
  {
   "cell_type": "code",
   "execution_count": 12,
   "metadata": {},
   "outputs": [
    {
     "output_type": "execute_result",
     "data": {
      "text/plain": [
       "City_ID                495\n",
       "City                   495\n",
       "Country                495\n",
       "Max Temp               495\n",
       "Current Description    495\n",
       "Lat                    495\n",
       "Lng                    495\n",
       "Hotel Name             495\n",
       "dtype: int64"
      ]
     },
     "metadata": {},
     "execution_count": 12
    }
   ],
   "source": [
    "clean_hotel_df.count()"
   ]
  },
  {
   "cell_type": "code",
   "execution_count": 13,
   "metadata": {},
   "outputs": [],
   "source": [
    "# 8a. Create the output File (CSV)\n",
    "output_data_file = \"../Vacation_Search/WeatherPy_vacation.csv\"\n",
    "# 8b. Export the City_Data into a csv\n",
    "clean_hotel_df.to_csv(output_data_file, index_label=\"City_ID\")"
   ]
  },
  {
   "cell_type": "code",
   "execution_count": 14,
   "metadata": {},
   "outputs": [],
   "source": [
    "# 9. Using the template add city name, the country code, the weather description and maximum temperature for the city.\n",
    "info_box_template = \"\"\"\n",
    "<dl>\n",
    "<dt>Hotel Name</dt><dd>{Hotel Name}</dd>\n",
    "<dt>City</dt><dd>{City}</dd>\n",
    "<dt>Country</dt><dd>{Country}</dd>\n",
    "<dt>Max Temp</dt><dd>{Max Temp} °F</dd>\n",
    "</dl>\n",
    "\"\"\"\n",
    "\n",
    "# 10a. Get the data from each row and add it to the formatting template and store the data in a list.\n",
    "hotel_info = [info_box_template.format(**row) for index, row in clean_hotel_df.iterrows()]\n",
    "\n",
    "# 10b. Get the latitude and longitude from each row and store in a new DataFrame.\n",
    "locations = clean_hotel_df[[\"Lat\", \"Lng\"]]"
   ]
  },
  {
   "cell_type": "code",
   "execution_count": 15,
   "metadata": {},
   "outputs": [
    {
     "output_type": "display_data",
     "data": {
      "text/plain": "Figure(layout=FigureLayout(height='420px'))",
      "application/vnd.jupyter.widget-view+json": {
       "version_major": 2,
       "version_minor": 0,
       "model_id": "cca2ebf78af84a8b94e2c802a6212b87"
      }
     },
     "metadata": {}
    }
   ],
   "source": [
    "# 11a. Add a marker layer for each city to the map. \n",
    "locations = clean_hotel_df[[\"Lat\", \"Lng\"]]\n",
    "max_temp = clean_hotel_df[\"Max Temp\"]\n",
    "fig = gmaps.figure(center=(30.0, 31.0), zoom_level=1.5)\n",
    "heat_layer = gmaps.heatmap_layer(locations, weights=max_temp,dissipating=False,\n",
    "             max_intensity=300, point_radius=4)\n",
    "marker_layer = gmaps.marker_layer(locations, info_box_content=hotel_info)\n",
    "fig.add_layer(heat_layer)\n",
    "fig.add_layer(marker_layer)\n",
    "# 11b. Display the figure\n",
    "fig "
   ]
  },
  {
   "cell_type": "code",
   "execution_count": null,
   "metadata": {},
   "outputs": [],
   "source": []
  },
  {
   "cell_type": "code",
   "execution_count": null,
   "metadata": {},
   "outputs": [],
   "source": []
  }
 ],
 "metadata": {
  "kernelspec": {
   "display_name": "PythonData",
   "language": "python",
   "name": "pythondata"
  },
  "language_info": {
   "codemirror_mode": {
    "name": "ipython",
    "version": 3
   },
   "file_extension": ".py",
   "mimetype": "text/x-python",
   "name": "python",
   "nbconvert_exporter": "python",
   "pygments_lexer": "ipython3",
   "version": "3.7.9-final"
  },
  "latex_envs": {
   "LaTeX_envs_menu_present": true,
   "autoclose": false,
   "autocomplete": true,
   "bibliofile": "biblio.bib",
   "cite_by": "apalike",
   "current_citInitial": 1,
   "eqLabelWithNumbers": true,
   "eqNumInitial": 1,
   "hotkeys": {
    "equation": "Ctrl-E",
    "itemize": "Ctrl-I"
   },
   "labels_anchors": false,
   "latex_user_defs": false,
   "report_style_numbering": false,
   "user_envs_cfg": false
  }
 },
 "nbformat": 4,
 "nbformat_minor": 2
}