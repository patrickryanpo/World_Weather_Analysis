{
 "metadata": {
  "language_info": {
   "codemirror_mode": {
    "name": "ipython",
    "version": 3
   },
   "file_extension": ".py",
   "mimetype": "text/x-python",
   "name": "python",
   "nbconvert_exporter": "python",
   "pygments_lexer": "ipython3",
   "version": "3.7.9-final"
  },
  "orig_nbformat": 2,
  "kernelspec": {
   "name": "pythondata",
   "display_name": "PythonData",
   "language": "python"
  }
 },
 "nbformat": 4,
 "nbformat_minor": 2,
 "cells": [
  {
   "cell_type": "code",
   "execution_count": 18,
   "metadata": {},
   "outputs": [],
   "source": [
    "# Import the dependencies.\n",
    "import pandas as pd\n",
    "import gmaps\n",
    "import requests\n",
    "# Import the API key.\n",
    "from config import g_key"
   ]
  },
  {
   "cell_type": "code",
   "execution_count": 19,
   "metadata": {},
   "outputs": [
    {
     "output_type": "execute_result",
     "data": {
      "text/plain": [
       "   City_ID        City Country                 Date    Lat    Lng  Max Temp  \\\n",
       "0        0      Dikson      RU  2020-12-28 07:26:33  73.51  80.55    -14.57   \n",
       "1        1      Castro      BR  2020-12-28 07:26:34 -24.79 -50.01     62.78   \n",
       "2        2      Namibe      AO  2020-12-28 07:26:34 -15.20  12.15     72.19   \n",
       "3        3    Nalgonda      IN  2020-12-28 07:26:34  17.05  79.27     82.56   \n",
       "4        4  Oranjestad      AW  2020-12-28 07:26:35  12.52 -70.03     78.80   \n",
       "\n",
       "   Humidity  Cloudiness  Wind Speed  \n",
       "0        90          77        8.97  \n",
       "1        98          82        5.48  \n",
       "2        73          98        4.36  \n",
       "3        37           0        6.49  \n",
       "4        78          20       10.29  "
      ],
      "text/html": "<div>\n<style scoped>\n    .dataframe tbody tr th:only-of-type {\n        vertical-align: middle;\n    }\n\n    .dataframe tbody tr th {\n        vertical-align: top;\n    }\n\n    .dataframe thead th {\n        text-align: right;\n    }\n</style>\n<table border=\"1\" class=\"dataframe\">\n  <thead>\n    <tr style=\"text-align: right;\">\n      <th></th>\n      <th>City_ID</th>\n      <th>City</th>\n      <th>Country</th>\n      <th>Date</th>\n      <th>Lat</th>\n      <th>Lng</th>\n      <th>Max Temp</th>\n      <th>Humidity</th>\n      <th>Cloudiness</th>\n      <th>Wind Speed</th>\n    </tr>\n  </thead>\n  <tbody>\n    <tr>\n      <th>0</th>\n      <td>0</td>\n      <td>Dikson</td>\n      <td>RU</td>\n      <td>2020-12-28 07:26:33</td>\n      <td>73.51</td>\n      <td>80.55</td>\n      <td>-14.57</td>\n      <td>90</td>\n      <td>77</td>\n      <td>8.97</td>\n    </tr>\n    <tr>\n      <th>1</th>\n      <td>1</td>\n      <td>Castro</td>\n      <td>BR</td>\n      <td>2020-12-28 07:26:34</td>\n      <td>-24.79</td>\n      <td>-50.01</td>\n      <td>62.78</td>\n      <td>98</td>\n      <td>82</td>\n      <td>5.48</td>\n    </tr>\n    <tr>\n      <th>2</th>\n      <td>2</td>\n      <td>Namibe</td>\n      <td>AO</td>\n      <td>2020-12-28 07:26:34</td>\n      <td>-15.20</td>\n      <td>12.15</td>\n      <td>72.19</td>\n      <td>73</td>\n      <td>98</td>\n      <td>4.36</td>\n    </tr>\n    <tr>\n      <th>3</th>\n      <td>3</td>\n      <td>Nalgonda</td>\n      <td>IN</td>\n      <td>2020-12-28 07:26:34</td>\n      <td>17.05</td>\n      <td>79.27</td>\n      <td>82.56</td>\n      <td>37</td>\n      <td>0</td>\n      <td>6.49</td>\n    </tr>\n    <tr>\n      <th>4</th>\n      <td>4</td>\n      <td>Oranjestad</td>\n      <td>AW</td>\n      <td>2020-12-28 07:26:35</td>\n      <td>12.52</td>\n      <td>-70.03</td>\n      <td>78.80</td>\n      <td>78</td>\n      <td>20</td>\n      <td>10.29</td>\n    </tr>\n  </tbody>\n</table>\n</div>"
     },
     "metadata": {},
     "execution_count": 19
    }
   ],
   "source": [
    "# Store the CSV you saved creating in part one into a DataFrame. \n",
    "\n",
    "city_data_df = pd.read_csv(\"weather_data/cities.csv\")\n",
    "city_data_df.head()"
   ]
  },
  {
   "cell_type": "code",
   "execution_count": 20,
   "metadata": {},
   "outputs": [
    {
     "output_type": "execute_result",
     "data": {
      "text/plain": [
       "City_ID         int64\n",
       "City           object\n",
       "Country        object\n",
       "Date           object\n",
       "Lat           float64\n",
       "Lng           float64\n",
       "Max Temp      float64\n",
       "Humidity        int64\n",
       "Cloudiness      int64\n",
       "Wind Speed    float64\n",
       "dtype: object"
      ]
     },
     "metadata": {},
     "execution_count": 20
    }
   ],
   "source": [
    "# Get the data types. \n",
    "city_data_df.dtypes"
   ]
  },
  {
   "cell_type": "code",
   "execution_count": 21,
   "metadata": {},
   "outputs": [],
   "source": [
    "# Configure gmaps to use your Google API key\n",
    "gmaps.configure(api_key=g_key)"
   ]
  },
  {
   "cell_type": "code",
   "execution_count": 5,
   "metadata": {},
   "outputs": [
    {
     "output_type": "error",
     "ename": "SyntaxError",
     "evalue": "invalid syntax (<ipython-input-5-44604a1d0e35>, line 4)",
     "traceback": [
      "\u001b[0;36m  File \u001b[0;32m\"<ipython-input-5-44604a1d0e35>\"\u001b[0;36m, line \u001b[0;32m4\u001b[0m\n\u001b[0;31m    temperatures = # an array of length equal to the locations array length\u001b[0m\n\u001b[0m                                                                           ^\u001b[0m\n\u001b[0;31mSyntaxError\u001b[0m\u001b[0;31m:\u001b[0m invalid syntax\n"
     ]
    }
   ],
   "source": [
    "# 1. Assign the locations to an array of latitude and longitude pairs.\n",
    "locations = [latitude, longitude]\n",
    "# 2. Assign the weights variable to some values.\n",
    "temperatures = # an array of length equal to the locations array length\n",
    "# 3. Assign the figure variable to the gmaps.figure() attribute.\n",
    "fig = gmaps.figure()\n",
    "# 4. Assign the heatmap_layer variable to the heatmap_layer attribute and add in the locations.\n",
    "heatmap_layer = gmaps.heatmap_layer(locations, weights=temperatures)\n",
    "\n",
    "# 5. Add the heatmap layer.\n",
    "fig.add_layer(heatmap_layer)\n",
    "# 6. Call the figure to plot the data.\n",
    "fig"
   ]
  },
  {
   "cell_type": "code",
   "execution_count": 22,
   "metadata": {},
   "outputs": [],
   "source": [
    "# Get the maximum temperature.\n",
    "\n",
    "max_temp = city_data_df[\"Max Temp\"]\n",
    "temps = []\n",
    "\n",
    "for temp in max_temp: \n",
    "    temps.append(max(temp,0))"
   ]
  },
  {
   "cell_type": "code",
   "execution_count": 29,
   "metadata": {},
   "outputs": [
    {
     "output_type": "display_data",
     "data": {
      "text/plain": "Figure(layout=FigureLayout(height='420px'))",
      "application/vnd.jupyter.widget-view+json": {
       "version_major": 2,
       "version_minor": 0,
       "model_id": "b36be53edc18469d92bca4105e06a83d"
      }
     },
     "metadata": {}
    }
   ],
   "source": [
    "# Heatmap of temperature\n",
    "# Get the latitude and longitude. \n",
    "locations = city_data_df[[\"Lat\", \"Lng\"]]\n",
    "\n",
    "# Get the maximum temperature\n",
    "max_temp = city_data_df[\"Max Temp\"]\n",
    "\n",
    "# Assign the figure variale \n",
    "fig = gmaps.figure(center=(30.0,31.0), zoom_level=1.3)\n",
    "\n",
    "# Assign the heatmap variable\n",
    "heat_layer = gmaps.heatmap_layer(locations, weights=[max(temp,0) for temp in max_temp], dissipating = False, max_intensity=300, point_radius=4)\n",
    "\n",
    "# Add the heatmap layer. \n",
    "fig.add_layer(heat_layer)\n",
    "\n",
    "\n",
    "# Call the figure to plot the data.\n",
    "fig"
   ]
  },
  {
   "cell_type": "code",
   "execution_count": 30,
   "metadata": {},
   "outputs": [
    {
     "output_type": "display_data",
     "data": {
      "text/plain": "Figure(layout=FigureLayout(height='420px'))",
      "application/vnd.jupyter.widget-view+json": {
       "version_major": 2,
       "version_minor": 0,
       "model_id": "5746f83157114f6aac539505900298e3"
      }
     },
     "metadata": {}
    }
   ],
   "source": [
    "# Heatmap of percent humidity \n",
    "locations = city_data_df[[\"Lat\", \"Lng\"]]\n",
    "humidity = city_data_df[\"Humidity\"]\n",
    "fig = gmaps.figure(center=(30.0,31.0), zoom_level=1.5)\n",
    "heat_layer = gmaps.heatmap_layer(locations, weights=humidity, dissipating=False, max_intensity = 300, point_radius=4)\n",
    "\n",
    "fig.add_layer(heat_layer)\n",
    "\n",
    "# Call the figure to plot the data\n",
    "fig"
   ]
  },
  {
   "cell_type": "code",
   "execution_count": 31,
   "metadata": {},
   "outputs": [
    {
     "output_type": "display_data",
     "data": {
      "text/plain": "Figure(layout=FigureLayout(height='420px'))",
      "application/vnd.jupyter.widget-view+json": {
       "version_major": 2,
       "version_minor": 0,
       "model_id": "55eda8bdf10444e8a740cd4fe264c44a"
      }
     },
     "metadata": {}
    }
   ],
   "source": [
    "# Heatmap of percent humidity \n",
    "locations = city_data_df[[\"Lat\", \"Lng\"]]\n",
    "clouds = city_data_df[\"Cloudiness\"]\n",
    "fig = gmaps.figure(center=(30.0,31.0), zoom_level=1.5)\n",
    "heat_layer = gmaps.heatmap_layer(locations, weights=clouds, dissipating=False, max_intensity = 300, point_radius=4)\n",
    "\n",
    "fig.add_layer(heat_layer)\n",
    "\n",
    "# Call the figure to plot the data\n",
    "fig"
   ]
  },
  {
   "cell_type": "code",
   "execution_count": 32,
   "metadata": {},
   "outputs": [
    {
     "output_type": "display_data",
     "data": {
      "text/plain": "Figure(layout=FigureLayout(height='420px'))",
      "application/vnd.jupyter.widget-view+json": {
       "version_major": 2,
       "version_minor": 0,
       "model_id": "131d984e5bba4081a79eedf6e7d2511c"
      }
     },
     "metadata": {}
    }
   ],
   "source": [
    "# Heatmap of percent humidity \n",
    "locations = city_data_df[[\"Lat\", \"Lng\"]]\n",
    "wind = city_data_df[\"Wind Speed\"]\n",
    "fig = gmaps.figure(center=(30.0,31.0), zoom_level=1.5)\n",
    "heat_layer = gmaps.heatmap_layer(locations, weights=wind, dissipating=False, max_intensity = 300, point_radius=4)\n",
    "\n",
    "fig.add_layer(heat_layer)\n",
    "\n",
    "# Call the figure to plot the data\n",
    "fig"
   ]
  },
  {
   "cell_type": "code",
   "execution_count": 46,
   "metadata": {},
   "outputs": [],
   "source": [
    "# Ask the customer to add a minimum and maximum temperature value. \n",
    "min_temp = float(input(\"What is the minimum temperature you would like for your trip?\"))\n",
    "max_temp = float(input(\"What is the maximum temperature you would like for your trip?\"))"
   ]
  },
  {
   "cell_type": "code",
   "execution_count": 34,
   "metadata": {},
   "outputs": [
    {
     "output_type": "execute_result",
     "data": {
      "text/plain": [
       "    City_ID            City Country                 Date    Lat     Lng  \\\n",
       "3         3        Nalgonda      IN  2020-12-28 07:26:34  17.05   79.27   \n",
       "4         4      Oranjestad      AW  2020-12-28 07:26:35  12.52  -70.03   \n",
       "6         6      Mahibadhoo      MV  2020-12-28 07:26:35   3.78   72.97   \n",
       "9         9        Victoria      HK  2020-12-28 07:24:37  22.29  114.16   \n",
       "10       10           Kapaa      US  2020-12-28 07:26:36  22.08 -159.32   \n",
       "11       11       Busselton      AU  2020-12-28 07:26:36 -33.65  115.33   \n",
       "15       15  Saint-Philippe      RE  2020-12-28 07:26:37 -21.36   55.77   \n",
       "18       18       Bathsheba      BB  2020-12-28 07:26:37  13.22  -59.52   \n",
       "19       19       Thinadhoo      MV  2020-12-28 07:26:37   0.53   72.93   \n",
       "24       24        Umm Lajj      SA  2020-12-28 07:26:38  25.02   37.27   \n",
       "\n",
       "    Max Temp  Humidity  Cloudiness  Wind Speed  \n",
       "3      82.56        37           0        6.49  \n",
       "4      78.80        78          20       10.29  \n",
       "6      82.60        65           0        7.09  \n",
       "9      78.80        39           0       21.92  \n",
       "10     75.20        83          40       13.87  \n",
       "11     84.99        26           0        5.01  \n",
       "15     86.00        62          20        5.82  \n",
       "18     77.00        88          40       12.75  \n",
       "19     82.65        68          99        6.69  \n",
       "24     75.15        44           1        1.48  "
      ],
      "text/html": "<div>\n<style scoped>\n    .dataframe tbody tr th:only-of-type {\n        vertical-align: middle;\n    }\n\n    .dataframe tbody tr th {\n        vertical-align: top;\n    }\n\n    .dataframe thead th {\n        text-align: right;\n    }\n</style>\n<table border=\"1\" class=\"dataframe\">\n  <thead>\n    <tr style=\"text-align: right;\">\n      <th></th>\n      <th>City_ID</th>\n      <th>City</th>\n      <th>Country</th>\n      <th>Date</th>\n      <th>Lat</th>\n      <th>Lng</th>\n      <th>Max Temp</th>\n      <th>Humidity</th>\n      <th>Cloudiness</th>\n      <th>Wind Speed</th>\n    </tr>\n  </thead>\n  <tbody>\n    <tr>\n      <th>3</th>\n      <td>3</td>\n      <td>Nalgonda</td>\n      <td>IN</td>\n      <td>2020-12-28 07:26:34</td>\n      <td>17.05</td>\n      <td>79.27</td>\n      <td>82.56</td>\n      <td>37</td>\n      <td>0</td>\n      <td>6.49</td>\n    </tr>\n    <tr>\n      <th>4</th>\n      <td>4</td>\n      <td>Oranjestad</td>\n      <td>AW</td>\n      <td>2020-12-28 07:26:35</td>\n      <td>12.52</td>\n      <td>-70.03</td>\n      <td>78.80</td>\n      <td>78</td>\n      <td>20</td>\n      <td>10.29</td>\n    </tr>\n    <tr>\n      <th>6</th>\n      <td>6</td>\n      <td>Mahibadhoo</td>\n      <td>MV</td>\n      <td>2020-12-28 07:26:35</td>\n      <td>3.78</td>\n      <td>72.97</td>\n      <td>82.60</td>\n      <td>65</td>\n      <td>0</td>\n      <td>7.09</td>\n    </tr>\n    <tr>\n      <th>9</th>\n      <td>9</td>\n      <td>Victoria</td>\n      <td>HK</td>\n      <td>2020-12-28 07:24:37</td>\n      <td>22.29</td>\n      <td>114.16</td>\n      <td>78.80</td>\n      <td>39</td>\n      <td>0</td>\n      <td>21.92</td>\n    </tr>\n    <tr>\n      <th>10</th>\n      <td>10</td>\n      <td>Kapaa</td>\n      <td>US</td>\n      <td>2020-12-28 07:26:36</td>\n      <td>22.08</td>\n      <td>-159.32</td>\n      <td>75.20</td>\n      <td>83</td>\n      <td>40</td>\n      <td>13.87</td>\n    </tr>\n    <tr>\n      <th>11</th>\n      <td>11</td>\n      <td>Busselton</td>\n      <td>AU</td>\n      <td>2020-12-28 07:26:36</td>\n      <td>-33.65</td>\n      <td>115.33</td>\n      <td>84.99</td>\n      <td>26</td>\n      <td>0</td>\n      <td>5.01</td>\n    </tr>\n    <tr>\n      <th>15</th>\n      <td>15</td>\n      <td>Saint-Philippe</td>\n      <td>RE</td>\n      <td>2020-12-28 07:26:37</td>\n      <td>-21.36</td>\n      <td>55.77</td>\n      <td>86.00</td>\n      <td>62</td>\n      <td>20</td>\n      <td>5.82</td>\n    </tr>\n    <tr>\n      <th>18</th>\n      <td>18</td>\n      <td>Bathsheba</td>\n      <td>BB</td>\n      <td>2020-12-28 07:26:37</td>\n      <td>13.22</td>\n      <td>-59.52</td>\n      <td>77.00</td>\n      <td>88</td>\n      <td>40</td>\n      <td>12.75</td>\n    </tr>\n    <tr>\n      <th>19</th>\n      <td>19</td>\n      <td>Thinadhoo</td>\n      <td>MV</td>\n      <td>2020-12-28 07:26:37</td>\n      <td>0.53</td>\n      <td>72.93</td>\n      <td>82.65</td>\n      <td>68</td>\n      <td>99</td>\n      <td>6.69</td>\n    </tr>\n    <tr>\n      <th>24</th>\n      <td>24</td>\n      <td>Umm Lajj</td>\n      <td>SA</td>\n      <td>2020-12-28 07:26:38</td>\n      <td>25.02</td>\n      <td>37.27</td>\n      <td>75.15</td>\n      <td>44</td>\n      <td>1</td>\n      <td>1.48</td>\n    </tr>\n  </tbody>\n</table>\n</div>"
     },
     "metadata": {},
     "execution_count": 34
    }
   ],
   "source": [
    "# Filter the dataset to find the cities that fit the criteria \n",
    "preferred_cities_df = city_data_df.loc[(city_data_df[\"Max Temp\"] <= max_temp) & (city_data_df[\"Max Temp\"] >= min_temp)]\n",
    "\n",
    "preferred_cities_df.head(10)"
   ]
  },
  {
   "cell_type": "code",
   "execution_count": 35,
   "metadata": {},
   "outputs": [
    {
     "output_type": "execute_result",
     "data": {
      "text/plain": [
       "City_ID       158\n",
       "City          158\n",
       "Country       155\n",
       "Date          158\n",
       "Lat           158\n",
       "Lng           158\n",
       "Max Temp      158\n",
       "Humidity      158\n",
       "Cloudiness    158\n",
       "Wind Speed    158\n",
       "dtype: int64"
      ]
     },
     "metadata": {},
     "execution_count": 35
    }
   ],
   "source": [
    "preferred_cities_df.count()"
   ]
  },
  {
   "cell_type": "code",
   "execution_count": 36,
   "metadata": {},
   "outputs": [
    {
     "output_type": "execute_result",
     "data": {
      "text/plain": [
       "              City Country  Max Temp    Lat     Lng Hotel Name\n",
       "3         Nalgonda      IN     82.56  17.05   79.27           \n",
       "4       Oranjestad      AW     78.80  12.52  -70.03           \n",
       "6       Mahibadhoo      MV     82.60   3.78   72.97           \n",
       "9         Victoria      HK     78.80  22.29  114.16           \n",
       "10           Kapaa      US     75.20  22.08 -159.32           \n",
       "11       Busselton      AU     84.99 -33.65  115.33           \n",
       "15  Saint-Philippe      RE     86.00 -21.36   55.77           \n",
       "18       Bathsheba      BB     77.00  13.22  -59.52           \n",
       "19       Thinadhoo      MV     82.65   0.53   72.93           \n",
       "24        Umm Lajj      SA     75.15  25.02   37.27           "
      ],
      "text/html": "<div>\n<style scoped>\n    .dataframe tbody tr th:only-of-type {\n        vertical-align: middle;\n    }\n\n    .dataframe tbody tr th {\n        vertical-align: top;\n    }\n\n    .dataframe thead th {\n        text-align: right;\n    }\n</style>\n<table border=\"1\" class=\"dataframe\">\n  <thead>\n    <tr style=\"text-align: right;\">\n      <th></th>\n      <th>City</th>\n      <th>Country</th>\n      <th>Max Temp</th>\n      <th>Lat</th>\n      <th>Lng</th>\n      <th>Hotel Name</th>\n    </tr>\n  </thead>\n  <tbody>\n    <tr>\n      <th>3</th>\n      <td>Nalgonda</td>\n      <td>IN</td>\n      <td>82.56</td>\n      <td>17.05</td>\n      <td>79.27</td>\n      <td></td>\n    </tr>\n    <tr>\n      <th>4</th>\n      <td>Oranjestad</td>\n      <td>AW</td>\n      <td>78.80</td>\n      <td>12.52</td>\n      <td>-70.03</td>\n      <td></td>\n    </tr>\n    <tr>\n      <th>6</th>\n      <td>Mahibadhoo</td>\n      <td>MV</td>\n      <td>82.60</td>\n      <td>3.78</td>\n      <td>72.97</td>\n      <td></td>\n    </tr>\n    <tr>\n      <th>9</th>\n      <td>Victoria</td>\n      <td>HK</td>\n      <td>78.80</td>\n      <td>22.29</td>\n      <td>114.16</td>\n      <td></td>\n    </tr>\n    <tr>\n      <th>10</th>\n      <td>Kapaa</td>\n      <td>US</td>\n      <td>75.20</td>\n      <td>22.08</td>\n      <td>-159.32</td>\n      <td></td>\n    </tr>\n    <tr>\n      <th>11</th>\n      <td>Busselton</td>\n      <td>AU</td>\n      <td>84.99</td>\n      <td>-33.65</td>\n      <td>115.33</td>\n      <td></td>\n    </tr>\n    <tr>\n      <th>15</th>\n      <td>Saint-Philippe</td>\n      <td>RE</td>\n      <td>86.00</td>\n      <td>-21.36</td>\n      <td>55.77</td>\n      <td></td>\n    </tr>\n    <tr>\n      <th>18</th>\n      <td>Bathsheba</td>\n      <td>BB</td>\n      <td>77.00</td>\n      <td>13.22</td>\n      <td>-59.52</td>\n      <td></td>\n    </tr>\n    <tr>\n      <th>19</th>\n      <td>Thinadhoo</td>\n      <td>MV</td>\n      <td>82.65</td>\n      <td>0.53</td>\n      <td>72.93</td>\n      <td></td>\n    </tr>\n    <tr>\n      <th>24</th>\n      <td>Umm Lajj</td>\n      <td>SA</td>\n      <td>75.15</td>\n      <td>25.02</td>\n      <td>37.27</td>\n      <td></td>\n    </tr>\n  </tbody>\n</table>\n</div>"
     },
     "metadata": {},
     "execution_count": 36
    }
   ],
   "source": [
    "# Create a DataFrame called hotel_df to store hotel names along with city, country, max temp, and coordinates\n",
    "hotel_df = preferred_cities_df[[\"City\", \"Country\", \"Max Temp\", \"Lat\", \"Lng\"]].copy()\n",
    "hotel_df[\"Hotel Name\"] = \"\"\n",
    "hotel_df.head(10)"
   ]
  },
  {
   "cell_type": "code",
   "execution_count": 37,
   "metadata": {},
   "outputs": [],
   "source": [
    "# Set parameters to search for a hotel. \n",
    "\n",
    "params = { \n",
    "    \"radius\": 5000,\n",
    "    \"type\": \"lodging\",\n",
    "    \"key\": g_key\n",
    "}"
   ]
  },
  {
   "cell_type": "code",
   "execution_count": 41,
   "metadata": {},
   "outputs": [],
   "source": [
    "# Iterate throug the DataFrame. \n",
    "\n",
    "for index, row in hotel_df.iterrows():\n",
    "    # Get the latitude and longitude.\n",
    "    lat = row[\"Lat\"]\n",
    "    lng = row[\"Lng\"]\n",
    "\n",
    "    # Add the latitude and longitude to location key for the params dictionary.\n",
    "    params[\"location\"] = f\"{lat},{lng}\"\n",
    "\n",
    "    # Use the search term: \"lodging\" and our latitude and longitude.\n",
    "    base_url = \"https://maps.googleapis.com/maps/api/place/nearbysearch/json\"\n",
    "\n",
    "    # Make request and get the JSON data from the search. \n",
    "    hotels = requests.get(base_url, params=params).json()\n",
    "try:\n",
    "    # Grab the first hotel from the results and store the name. \n",
    "    hotel_df.loc[index, \"Hotel Name\"] = hotels[\"results\"][0][\"name\"]\n",
    "except(IndexError):\n",
    "    print(\"Hotel not found... skipping.\")"
   ]
  },
  {
   "cell_type": "code",
   "execution_count": 47,
   "metadata": {},
   "outputs": [
    {
     "output_type": "execute_result",
     "data": {
      "text/plain": [
       "              City Country  Max Temp    Lat     Lng  \\\n",
       "3         Nalgonda      IN     82.56  17.05   79.27   \n",
       "4       Oranjestad      AW     78.80  12.52  -70.03   \n",
       "6       Mahibadhoo      MV     82.60   3.78   72.97   \n",
       "9         Victoria      HK     78.80  22.29  114.16   \n",
       "10           Kapaa      US     75.20  22.08 -159.32   \n",
       "11       Busselton      AU     84.99 -33.65  115.33   \n",
       "15  Saint-Philippe      RE     86.00 -21.36   55.77   \n",
       "18       Bathsheba      BB     77.00  13.22  -59.52   \n",
       "19       Thinadhoo      MV     82.65   0.53   72.93   \n",
       "24        Umm Lajj      SA     75.15  25.02   37.27   \n",
       "\n",
       "                                Hotel Name  \n",
       "3                    Sai Krishna Residency  \n",
       "4         Divi Village Golf & Beach Resort  \n",
       "6                              Omadhoo Inn  \n",
       "9                       Mini Hotel Central  \n",
       "10  Sheraton Kauai Resort at Coconut Beach  \n",
       "11                 Observatory Guest House  \n",
       "15            Chambres d'hôte \"La Trinité\"  \n",
       "18                          Atlantis Hotel  \n",
       "19                                          \n",
       "24                                          "
      ],
      "text/html": "<div>\n<style scoped>\n    .dataframe tbody tr th:only-of-type {\n        vertical-align: middle;\n    }\n\n    .dataframe tbody tr th {\n        vertical-align: top;\n    }\n\n    .dataframe thead th {\n        text-align: right;\n    }\n</style>\n<table border=\"1\" class=\"dataframe\">\n  <thead>\n    <tr style=\"text-align: right;\">\n      <th></th>\n      <th>City</th>\n      <th>Country</th>\n      <th>Max Temp</th>\n      <th>Lat</th>\n      <th>Lng</th>\n      <th>Hotel Name</th>\n    </tr>\n  </thead>\n  <tbody>\n    <tr>\n      <th>3</th>\n      <td>Nalgonda</td>\n      <td>IN</td>\n      <td>82.56</td>\n      <td>17.05</td>\n      <td>79.27</td>\n      <td>Sai Krishna Residency</td>\n    </tr>\n    <tr>\n      <th>4</th>\n      <td>Oranjestad</td>\n      <td>AW</td>\n      <td>78.80</td>\n      <td>12.52</td>\n      <td>-70.03</td>\n      <td>Divi Village Golf &amp; Beach Resort</td>\n    </tr>\n    <tr>\n      <th>6</th>\n      <td>Mahibadhoo</td>\n      <td>MV</td>\n      <td>82.60</td>\n      <td>3.78</td>\n      <td>72.97</td>\n      <td>Omadhoo Inn</td>\n    </tr>\n    <tr>\n      <th>9</th>\n      <td>Victoria</td>\n      <td>HK</td>\n      <td>78.80</td>\n      <td>22.29</td>\n      <td>114.16</td>\n      <td>Mini Hotel Central</td>\n    </tr>\n    <tr>\n      <th>10</th>\n      <td>Kapaa</td>\n      <td>US</td>\n      <td>75.20</td>\n      <td>22.08</td>\n      <td>-159.32</td>\n      <td>Sheraton Kauai Resort at Coconut Beach</td>\n    </tr>\n    <tr>\n      <th>11</th>\n      <td>Busselton</td>\n      <td>AU</td>\n      <td>84.99</td>\n      <td>-33.65</td>\n      <td>115.33</td>\n      <td>Observatory Guest House</td>\n    </tr>\n    <tr>\n      <th>15</th>\n      <td>Saint-Philippe</td>\n      <td>RE</td>\n      <td>86.00</td>\n      <td>-21.36</td>\n      <td>55.77</td>\n      <td>Chambres d'hôte \"La Trinité\"</td>\n    </tr>\n    <tr>\n      <th>18</th>\n      <td>Bathsheba</td>\n      <td>BB</td>\n      <td>77.00</td>\n      <td>13.22</td>\n      <td>-59.52</td>\n      <td>Atlantis Hotel</td>\n    </tr>\n    <tr>\n      <th>19</th>\n      <td>Thinadhoo</td>\n      <td>MV</td>\n      <td>82.65</td>\n      <td>0.53</td>\n      <td>72.93</td>\n      <td></td>\n    </tr>\n    <tr>\n      <th>24</th>\n      <td>Umm Lajj</td>\n      <td>SA</td>\n      <td>75.15</td>\n      <td>25.02</td>\n      <td>37.27</td>\n      <td></td>\n    </tr>\n  </tbody>\n</table>\n</div>"
     },
     "metadata": {},
     "execution_count": 47
    }
   ],
   "source": [
    "hotel_df.head(10)"
   ]
  },
  {
   "cell_type": "code",
   "execution_count": 49,
   "metadata": {},
   "outputs": [
    {
     "output_type": "display_data",
     "data": {
      "text/plain": "Figure(layout=FigureLayout(height='420px'))",
      "application/vnd.jupyter.widget-view+json": {
       "version_major": 2,
       "version_minor": 0,
       "model_id": "20a979a2397c45e8bfafcf5e5201f903"
      }
     },
     "metadata": {}
    }
   ],
   "source": [
    "# Add a heatmap of temperature for the vacation spots and marker for each city.\n",
    "locations = hotel_df[[\"Lat\", \"Lng\"]]\n",
    "max_temp = hotel_df[\"Max Temp\"]\n",
    "fig = gmaps.figure(center=(30.0, 31.0), zoom_level=1.5)\n",
    "heat_layer = gmaps.heatmap_layer(locations, weights=max_temp,\n",
    "             dissipating=False, max_intensity=300, point_radius=4)\n",
    "marker_layer = gmaps.marker_layer(locations)\n",
    "fig.add_layer(heat_layer)\n",
    "fig.add_layer(marker_layer)\n",
    "# Call the figure to plot the data.\n",
    "fig"
   ]
  },
  {
   "cell_type": "code",
   "execution_count": 50,
   "metadata": {},
   "outputs": [],
   "source": [
    "info_box_template = \"\"\"\n",
    "<dl>\n",
    "<dt>Hotel Name</dt><dd>{Hotel Name}</dd>\n",
    "<dt>City</dt><dd>{City}</dd>\n",
    "<dt>Country</dt><dd>{Country}</dd>\n",
    "<dt>Max Temp</dt><dd>{Max Temp} °F</dd>\n",
    "</dl>\n",
    "\"\"\"\n",
    "\n",
    "# Store the DataFrame Row.\n",
    "hotel_info = [info_box_template.format(**row) for index, row in hotel_df.iterrows()]"
   ]
  },
  {
   "cell_type": "code",
   "execution_count": 51,
   "metadata": {},
   "outputs": [
    {
     "output_type": "display_data",
     "data": {
      "text/plain": "Figure(layout=FigureLayout(height='420px'))",
      "application/vnd.jupyter.widget-view+json": {
       "version_major": 2,
       "version_minor": 0,
       "model_id": "427de1291b1a487493ef8a2a7210b708"
      }
     },
     "metadata": {}
    }
   ],
   "source": [
    "# Add a heatmap of temperature for the vacation spots and a pop-up marker for each city.\n",
    "locations = hotel_df[[\"Lat\", \"Lng\"]]\n",
    "max_temp = hotel_df[\"Max Temp\"]\n",
    "fig = gmaps.figure(center=(30.0, 31.0), zoom_level=1.5)\n",
    "heat_layer = gmaps.heatmap_layer(locations, weights=max_temp,dissipating=False,\n",
    "             max_intensity=300, point_radius=4)\n",
    "marker_layer = gmaps.marker_layer(locations, info_box_content=hotel_info)\n",
    "fig.add_layer(heat_layer)\n",
    "fig.add_layer(marker_layer)\n",
    "\n",
    "# Call the figure to plot the data.\n",
    "fig"
   ]
  },
  {
   "cell_type": "code",
   "execution_count": null,
   "metadata": {},
   "outputs": [],
   "source": []
  }
 ]
}