{
 "cells": [
  {
   "cell_type": "markdown",
   "metadata": {},
   "source": [
    "## Deliverable 3. Create a Travel Itinerary Map."
   ]
  },
  {
   "cell_type": "code",
   "execution_count": 3,
   "metadata": {},
   "outputs": [],
   "source": [
    "# Dependencies and Setup\n",
    "import pandas as pd\n",
    "import requests\n",
    "import gmaps\n",
    "\n",
    "# Import API key\n",
    "from config import g_key\n",
    "\n",
    "# Configure gmaps\n",
    "gmaps.configure(api_key=g_key)"
   ]
  },
  {
   "cell_type": "code",
   "execution_count": 4,
   "metadata": {},
   "outputs": [
    {
     "output_type": "execute_result",
     "data": {
      "text/plain": [
       "   City_ID  City_ID.1            City Country  Max Temp Current Description  \\\n",
       "0        0          1       Carnarvon      AU     87.80       broken clouds   \n",
       "1        1          2        Hermanus      ZA     79.00           clear sky   \n",
       "2        2          3           Bluff      NZ     55.00           clear sky   \n",
       "3        3          4  Saint-Francois      FR     44.01    scattered clouds   \n",
       "4        5          6     Centerville      US     39.99       broken clouds   \n",
       "\n",
       "     Lat     Lng                                         Hotel Name  \n",
       "0 -24.87  113.63                              Hospitality Carnarvon  \n",
       "1 -34.42   19.23                         Misty Waves Boutique Hotel  \n",
       "2 -46.60  168.33      Bluff Homestead - Guesthouse & Campervan Park  \n",
       "3  46.42    3.91                                  Manoir Du Bonheur  \n",
       "4  39.63  -84.16  Country Inn & Suites by Radisson, Dayton South...  "
      ],
      "text/html": "<div>\n<style scoped>\n    .dataframe tbody tr th:only-of-type {\n        vertical-align: middle;\n    }\n\n    .dataframe tbody tr th {\n        vertical-align: top;\n    }\n\n    .dataframe thead th {\n        text-align: right;\n    }\n</style>\n<table border=\"1\" class=\"dataframe\">\n  <thead>\n    <tr style=\"text-align: right;\">\n      <th></th>\n      <th>City_ID</th>\n      <th>City_ID.1</th>\n      <th>City</th>\n      <th>Country</th>\n      <th>Max Temp</th>\n      <th>Current Description</th>\n      <th>Lat</th>\n      <th>Lng</th>\n      <th>Hotel Name</th>\n    </tr>\n  </thead>\n  <tbody>\n    <tr>\n      <th>0</th>\n      <td>0</td>\n      <td>1</td>\n      <td>Carnarvon</td>\n      <td>AU</td>\n      <td>87.80</td>\n      <td>broken clouds</td>\n      <td>-24.87</td>\n      <td>113.63</td>\n      <td>Hospitality Carnarvon</td>\n    </tr>\n    <tr>\n      <th>1</th>\n      <td>1</td>\n      <td>2</td>\n      <td>Hermanus</td>\n      <td>ZA</td>\n      <td>79.00</td>\n      <td>clear sky</td>\n      <td>-34.42</td>\n      <td>19.23</td>\n      <td>Misty Waves Boutique Hotel</td>\n    </tr>\n    <tr>\n      <th>2</th>\n      <td>2</td>\n      <td>3</td>\n      <td>Bluff</td>\n      <td>NZ</td>\n      <td>55.00</td>\n      <td>clear sky</td>\n      <td>-46.60</td>\n      <td>168.33</td>\n      <td>Bluff Homestead - Guesthouse &amp; Campervan Park</td>\n    </tr>\n    <tr>\n      <th>3</th>\n      <td>3</td>\n      <td>4</td>\n      <td>Saint-Francois</td>\n      <td>FR</td>\n      <td>44.01</td>\n      <td>scattered clouds</td>\n      <td>46.42</td>\n      <td>3.91</td>\n      <td>Manoir Du Bonheur</td>\n    </tr>\n    <tr>\n      <th>4</th>\n      <td>5</td>\n      <td>6</td>\n      <td>Centerville</td>\n      <td>US</td>\n      <td>39.99</td>\n      <td>broken clouds</td>\n      <td>39.63</td>\n      <td>-84.16</td>\n      <td>Country Inn &amp; Suites by Radisson, Dayton South...</td>\n    </tr>\n  </tbody>\n</table>\n</div>"
     },
     "metadata": {},
     "execution_count": 4
    }
   ],
   "source": [
    "# 1. Read the WeatherPy_vacation.csv into a DataFrame.\n",
    "vacation_df = pd.read_csv(\"../Vacation_Search/WeatherPy_vacation.csv\")\n",
    "vacation_df.head()"
   ]
  },
  {
   "cell_type": "code",
   "execution_count": 7,
   "metadata": {},
   "outputs": [],
   "source": [
    "# 2. Using the template add the city name, the country code, the weather description and maximum temperature for the city.\n",
    "info_box_template = \"\"\"\n",
    "<dl>\n",
    "<dt>City</dt><dd>{City}</dd>\n",
    "<dt>Current Description</dt><dd>{Current Description}</dd>\n",
    "<dt>Country</dt><dd>{Country}</dd>\n",
    "<dt>Max Temp</dt><dd>{Max Temp} °F</dd>\n",
    "</dl>\n",
    "\"\"\"\n",
    "\n",
    "# 3a. Get the data from each row and add it to the formatting template and store the data in a list.\n",
    "hotel_info = [info_box_template.format(**row) for index, row in vacation_df.iterrows()]\n",
    "\n",
    "# 3b. Get the latitude and longitude from each row and store in a new DataFrame.\n",
    "locations = vacation_df[[\"Lat\", \"Lng\"]]"
   ]
  },
  {
   "cell_type": "code",
   "execution_count": 8,
   "metadata": {},
   "outputs": [
    {
     "output_type": "display_data",
     "data": {
      "text/plain": "Figure(layout=FigureLayout(height='420px'))",
      "application/vnd.jupyter.widget-view+json": {
       "version_major": 2,
       "version_minor": 0,
       "model_id": "5f51847eeb8a44dfa5035a1df9c477bd"
      }
     },
     "metadata": {}
    }
   ],
   "source": [
    "# 4a. Add a marker layer for each city to the map.\n",
    "locations = vacation_df[[\"Lat\", \"Lng\"]]\n",
    "max_temp = vacation_df[\"Max Temp\"]\n",
    "fig = gmaps.figure(center=(30.0, 31.0), zoom_level=1.5)\n",
    "heat_layer = gmaps.heatmap_layer(locations, weights=max_temp,dissipating=False,\n",
    "             max_intensity=300, point_radius=4)\n",
    "marker_layer = gmaps.marker_layer(locations, info_box_content=hotel_info)\n",
    "fig.add_layer(heat_layer)\n",
    "fig.add_layer(marker_layer)\n",
    "# 4b. Display the figure\n",
    "fig\n",
    "\n"
   ]
  },
  {
   "cell_type": "code",
   "execution_count": 31,
   "metadata": {},
   "outputs": [],
   "source": [
    "# From the map above pick 4 cities and create a vacation itinerary route to travel between the four cities. \n",
    "# 5. Create DataFrames for each city by filtering the 'vacation_df' using the loc method. \n",
    "# Hint: The starting and ending city should be the same city.\n",
    "\n",
    "vacation_start = vacation_df.loc[vacation_df[\"City\"] == \"Half Moon Bay\"]\n",
    "vacation_end = vacation_df.loc[vacation_df[\"City\"] == \"Half Moon Bay\"]\n",
    "vacation_stop1 = vacation_df.loc[vacation_df[\"City\"] == \"Portland\"]\n",
    "vacation_stop2 = vacation_df.loc[vacation_df[\"City\"] == \"Englewood\"] \n",
    "vacation_stop3 = vacation_df.loc[vacation_df[\"City\"] == \"Cabo San Lucas\"] "
   ]
  },
  {
   "cell_type": "code",
   "execution_count": 37,
   "metadata": {},
   "outputs": [
    {
     "output_type": "stream",
     "name": "stdout",
     "text": [
      "(37.46, -122.43) (37.46, -122.43) (45.52, -122.68) (39.65, -104.99) (22.89, -109.91)\n"
     ]
    }
   ],
   "source": [
    "# 6. Get the latitude-longitude pairs as tuples from each city DataFrame using the to_numpy function and list indexing.\n",
    "start = vacation_start[\"Lat\"].to_numpy()[0], vacation_start[\"Lng\"].to_numpy()[0]\n",
    "end = vacation_end[\"Lat\"].to_numpy()[0], vacation_end[\"Lng\"].to_numpy()[0]\n",
    "stop1 = vacation_stop1[\"Lat\"].to_numpy()[0], vacation_stop1[\"Lng\"].to_numpy()[0]\n",
    "stop2 = vacation_stop2[\"Lat\"].to_numpy()[0], vacation_stop2[\"Lng\"].to_numpy()[0]\n",
    "stop3 = vacation_stop3[\"Lat\"].to_numpy()[0], vacation_stop3[\"Lng\"].to_numpy()[0]\n",
    "\n",
    "print(start,end, stop1,stop2,stop3)"
   ]
  },
  {
   "cell_type": "code",
   "execution_count": 38,
   "metadata": {
    "scrolled": true
   },
   "outputs": [
    {
     "output_type": "display_data",
     "data": {
      "text/plain": "Figure(layout=FigureLayout(height='420px'))",
      "application/vnd.jupyter.widget-view+json": {
       "version_major": 2,
       "version_minor": 0,
       "model_id": "3833dab285134543bf283ea4d6702aae"
      }
     },
     "metadata": {}
    }
   ],
   "source": [
    "# 7. Create a direction layer map using the start and end latitude-longitude pairs,\n",
    "# and stop1, stop2, and stop3 as the waypoints. The travel_mode should be \"DRIVING\", \"BICYCLING\", or \"WALKING\".\n",
    "import gmaps.datasets\n",
    "gmaps.configure(api_key=g_key)\n",
    "\n",
    "fig = gmaps.figure()\n",
    "west_drive = gmaps.directions_layer(start, end, waypoints=[stop1, stop2, stop3],travel_mode=\"DRIVING\")\n",
    "\n",
    "fig.add_layer(west_drive)\n",
    "fig\n",
    "\n"
   ]
  },
  {
   "cell_type": "code",
   "execution_count": 39,
   "metadata": {},
   "outputs": [
    {
     "output_type": "execute_result",
     "data": {
      "text/plain": [
       "   City_ID  City_ID.1            City Country  Max Temp Current Description  \\\n",
       "0      229        304   Half Moon Bay      US     48.20          light rain   \n",
       "1      229        304   Half Moon Bay      US     48.20          light rain   \n",
       "2      463        610        Portland      US     39.99     overcast clouds   \n",
       "3      134        176       Englewood      US     30.00       broken clouds   \n",
       "4      212        280  Cabo San Lucas      MX     66.00           clear sky   \n",
       "\n",
       "     Lat     Lng                                         Hotel Name  \n",
       "0  37.46 -122.43                    The Ritz-Carlton, Half Moon Bay  \n",
       "1  37.46 -122.43                    The Ritz-Carlton, Half Moon Bay  \n",
       "2  45.52 -122.68                      The Bidwell Marriott Portland  \n",
       "3  39.65 -104.99  InTown Suites Extended Stay Denver CO - Englewood  \n",
       "4  22.89 -109.91                             Hotel Tesoro Los Cabos  "
      ],
      "text/html": "<div>\n<style scoped>\n    .dataframe tbody tr th:only-of-type {\n        vertical-align: middle;\n    }\n\n    .dataframe tbody tr th {\n        vertical-align: top;\n    }\n\n    .dataframe thead th {\n        text-align: right;\n    }\n</style>\n<table border=\"1\" class=\"dataframe\">\n  <thead>\n    <tr style=\"text-align: right;\">\n      <th></th>\n      <th>City_ID</th>\n      <th>City_ID.1</th>\n      <th>City</th>\n      <th>Country</th>\n      <th>Max Temp</th>\n      <th>Current Description</th>\n      <th>Lat</th>\n      <th>Lng</th>\n      <th>Hotel Name</th>\n    </tr>\n  </thead>\n  <tbody>\n    <tr>\n      <th>0</th>\n      <td>229</td>\n      <td>304</td>\n      <td>Half Moon Bay</td>\n      <td>US</td>\n      <td>48.20</td>\n      <td>light rain</td>\n      <td>37.46</td>\n      <td>-122.43</td>\n      <td>The Ritz-Carlton, Half Moon Bay</td>\n    </tr>\n    <tr>\n      <th>1</th>\n      <td>229</td>\n      <td>304</td>\n      <td>Half Moon Bay</td>\n      <td>US</td>\n      <td>48.20</td>\n      <td>light rain</td>\n      <td>37.46</td>\n      <td>-122.43</td>\n      <td>The Ritz-Carlton, Half Moon Bay</td>\n    </tr>\n    <tr>\n      <th>2</th>\n      <td>463</td>\n      <td>610</td>\n      <td>Portland</td>\n      <td>US</td>\n      <td>39.99</td>\n      <td>overcast clouds</td>\n      <td>45.52</td>\n      <td>-122.68</td>\n      <td>The Bidwell Marriott Portland</td>\n    </tr>\n    <tr>\n      <th>3</th>\n      <td>134</td>\n      <td>176</td>\n      <td>Englewood</td>\n      <td>US</td>\n      <td>30.00</td>\n      <td>broken clouds</td>\n      <td>39.65</td>\n      <td>-104.99</td>\n      <td>InTown Suites Extended Stay Denver CO - Englewood</td>\n    </tr>\n    <tr>\n      <th>4</th>\n      <td>212</td>\n      <td>280</td>\n      <td>Cabo San Lucas</td>\n      <td>MX</td>\n      <td>66.00</td>\n      <td>clear sky</td>\n      <td>22.89</td>\n      <td>-109.91</td>\n      <td>Hotel Tesoro Los Cabos</td>\n    </tr>\n  </tbody>\n</table>\n</div>"
     },
     "metadata": {},
     "execution_count": 39
    }
   ],
   "source": [
    "# 8. To create a marker layer map between the four cities.\n",
    "#  Combine the four city DataFrames into one DataFrame using the concat() function.\n",
    "itinerary_df = pd.concat([vacation_start, vacation_end,vacation_stop1,vacation_stop2, vacation_stop3],ignore_index=True)\n",
    "itinerary_df"
   ]
  },
  {
   "cell_type": "code",
   "execution_count": 40,
   "metadata": {},
   "outputs": [],
   "source": [
    "# 9 Using the template add city name, the country code, the weather description and maximum temperature for the city. \n",
    "info_box_template = \"\"\"\n",
    "<dl>\n",
    "<dt>City</dt><dd>{City}</dd>\n",
    "<dt>Country</dt><dd>{Country}</dd>\n",
    "<dt>Weather Description</dt><dd>{Current Description}</dd>\n",
    "<dt>Max Temp</dt><dd>{Max Temp} °F</dd>\n",
    "</dl>\n",
    "\"\"\"\n",
    "\n",
    "# 10a Get the data from each row and add it to the formatting template and store the data in a list.\n",
    "hotel_info = [info_box_template.format(**row) for index, row in itinerary_df.iterrows()]\n",
    "\n",
    "# 10b. Get the latitude and longitude from each row and store in a new DataFrame.\n",
    "locations = itinerary_df[[\"Lat\", \"Lng\"]]"
   ]
  },
  {
   "cell_type": "code",
   "execution_count": 41,
   "metadata": {},
   "outputs": [
    {
     "output_type": "display_data",
     "data": {
      "text/plain": "Figure(layout=FigureLayout(height='420px'))",
      "application/vnd.jupyter.widget-view+json": {
       "version_major": 2,
       "version_minor": 0,
       "model_id": "1490a8824c6e4940b39ea8e2f9a988a6"
      }
     },
     "metadata": {}
    }
   ],
   "source": [
    "# 11a. Add a marker layer for each city to the map.\n",
    "locations = itinerary_df[[\"Lat\", \"Lng\"]]\n",
    "max_temp = itinerary_df[\"Max Temp\"]\n",
    "fig = gmaps.figure(center=(30.0, 31.0), zoom_level=1.5)\n",
    "heat_layer = gmaps.heatmap_layer(locations, weights=max_temp,dissipating=False,\n",
    "             max_intensity=300, point_radius=4)\n",
    "marker_layer = gmaps.marker_layer(locations, info_box_content=hotel_info)\n",
    "fig.add_layer(heat_layer)\n",
    "fig.add_layer(marker_layer)\n",
    "# 11b. Display the figure\n",
    "fig"
   ]
  },
  {
   "cell_type": "code",
   "execution_count": null,
   "metadata": {},
   "outputs": [],
   "source": []
  }
 ],
 "metadata": {
  "kernelspec": {
   "display_name": "PythonData",
   "language": "python",
   "name": "pythondata"
  },
  "language_info": {
   "codemirror_mode": {
    "name": "ipython",
    "version": 3
   },
   "file_extension": ".py",
   "mimetype": "text/x-python",
   "name": "python",
   "nbconvert_exporter": "python",
   "pygments_lexer": "ipython3",
   "version": "3.7.9-final"
  },
  "latex_envs": {
   "LaTeX_envs_menu_present": true,
   "autoclose": false,
   "autocomplete": true,
   "bibliofile": "biblio.bib",
   "cite_by": "apalike",
   "current_citInitial": 1,
   "eqLabelWithNumbers": true,
   "eqNumInitial": 1,
   "hotkeys": {
    "equation": "Ctrl-E",
    "itemize": "Ctrl-I"
   },
   "labels_anchors": false,
   "latex_user_defs": false,
   "report_style_numbering": false,
   "user_envs_cfg": false
  }
 },
 "nbformat": 4,
 "nbformat_minor": 2
}