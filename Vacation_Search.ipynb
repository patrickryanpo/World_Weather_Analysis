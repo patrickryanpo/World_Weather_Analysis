{
 "cells": [
  {
   "cell_type": "code",
   "execution_count": 3,
   "metadata": {},
   "outputs": [],
   "source": [
    "# Dependencies and Setup\n",
    "import pandas as pd\n",
    "import requests\n",
    "import gmaps\n",
    "\n",
    "# Import API key\n",
    "from config import g_key\n",
    "\n",
    "# Configure gmaps API key\n",
    "gmaps.configure(api_key=g_key)"
   ]
  },
  {
   "cell_type": "markdown",
   "metadata": {},
   "source": [
    "## Deliverable 2. Create a Customer Travel Destinations Map."
   ]
  },
  {
   "cell_type": "code",
   "execution_count": 4,
   "metadata": {},
   "outputs": [
    {
     "output_type": "execute_result",
     "data": {
      "text/plain": [
       "   City_ID          City Country  Max Temp Current Description    Lat     Lng\n",
       "0      702  Kruisfontein      ZA     80.01           clear sky -34.00   24.73\n",
       "1      704        Dingle      PH     78.03          light rain  11.00  122.67\n",
       "2      706    Bredasdorp      ZA     75.20           clear sky -34.53   20.04\n",
       "3      707    Malumfashi      NG     77.29           clear sky  11.79    7.62\n",
       "4      710         Vaini      TO     78.80          light rain -21.20 -175.20"
      ],
      "text/html": "<div>\n<style scoped>\n    .dataframe tbody tr th:only-of-type {\n        vertical-align: middle;\n    }\n\n    .dataframe tbody tr th {\n        vertical-align: top;\n    }\n\n    .dataframe thead th {\n        text-align: right;\n    }\n</style>\n<table border=\"1\" class=\"dataframe\">\n  <thead>\n    <tr style=\"text-align: right;\">\n      <th></th>\n      <th>City_ID</th>\n      <th>City</th>\n      <th>Country</th>\n      <th>Max Temp</th>\n      <th>Current Description</th>\n      <th>Lat</th>\n      <th>Lng</th>\n    </tr>\n  </thead>\n  <tbody>\n    <tr>\n      <th>0</th>\n      <td>702</td>\n      <td>Kruisfontein</td>\n      <td>ZA</td>\n      <td>80.01</td>\n      <td>clear sky</td>\n      <td>-34.00</td>\n      <td>24.73</td>\n    </tr>\n    <tr>\n      <th>1</th>\n      <td>704</td>\n      <td>Dingle</td>\n      <td>PH</td>\n      <td>78.03</td>\n      <td>light rain</td>\n      <td>11.00</td>\n      <td>122.67</td>\n    </tr>\n    <tr>\n      <th>2</th>\n      <td>706</td>\n      <td>Bredasdorp</td>\n      <td>ZA</td>\n      <td>75.20</td>\n      <td>clear sky</td>\n      <td>-34.53</td>\n      <td>20.04</td>\n    </tr>\n    <tr>\n      <th>3</th>\n      <td>707</td>\n      <td>Malumfashi</td>\n      <td>NG</td>\n      <td>77.29</td>\n      <td>clear sky</td>\n      <td>11.79</td>\n      <td>7.62</td>\n    </tr>\n    <tr>\n      <th>4</th>\n      <td>710</td>\n      <td>Vaini</td>\n      <td>TO</td>\n      <td>78.80</td>\n      <td>light rain</td>\n      <td>-21.20</td>\n      <td>-175.20</td>\n    </tr>\n  </tbody>\n</table>\n</div>"
     },
     "metadata": {},
     "execution_count": 4
    }
   ],
   "source": [
    "# 1. Import the WeatherPy_database.csv file. \n",
    "city_data_df = pd.read_csv(\"Weather_Database/WeatherPy_database.csv\")\n",
    "city_data_df.head()"
   ]
  },
  {
   "cell_type": "code",
   "execution_count": 5,
   "metadata": {},
   "outputs": [],
   "source": [
    "# 2. Prompt the user to enter minimum and maximum temperature criteria \n",
    "min_temp = float(input(\"What is the minimum temperature you would like for your trip?\"))\n",
    "max_temp = float(input(\"What is the maximum temperature you would like for your trip?\"))"
   ]
  },
  {
   "cell_type": "code",
   "execution_count": 6,
   "metadata": {},
   "outputs": [
    {
     "output_type": "execute_result",
     "data": {
      "text/plain": [
       "   City_ID            City Country  Max Temp Current Description    Lat  \\\n",
       "0      702    Kruisfontein      ZA     80.01           clear sky -34.00   \n",
       "1      704          Dingle      PH     78.03          light rain  11.00   \n",
       "2      706      Bredasdorp      ZA     75.20           clear sky -34.53   \n",
       "3      707      Malumfashi      NG     77.29           clear sky  11.79   \n",
       "4      710           Vaini      TO     78.80          light rain -21.20   \n",
       "5      711           Wewak      PG     81.30    scattered clouds  -3.55   \n",
       "6      713           Kapaa      US     75.20           clear sky  22.08   \n",
       "7      715     Grand Gaube      MU     82.00     overcast clouds -20.01   \n",
       "8      716        Hermanus      ZA     81.00           clear sky -34.42   \n",
       "9      718  Saint-Philippe      RE     87.80          light rain -21.36   \n",
       "\n",
       "      Lng  \n",
       "0   24.73  \n",
       "1  122.67  \n",
       "2   20.04  \n",
       "3    7.62  \n",
       "4 -175.20  \n",
       "5  143.63  \n",
       "6 -159.32  \n",
       "7   57.66  \n",
       "8   19.23  \n",
       "9   55.77  "
      ],
      "text/html": "<div>\n<style scoped>\n    .dataframe tbody tr th:only-of-type {\n        vertical-align: middle;\n    }\n\n    .dataframe tbody tr th {\n        vertical-align: top;\n    }\n\n    .dataframe thead th {\n        text-align: right;\n    }\n</style>\n<table border=\"1\" class=\"dataframe\">\n  <thead>\n    <tr style=\"text-align: right;\">\n      <th></th>\n      <th>City_ID</th>\n      <th>City</th>\n      <th>Country</th>\n      <th>Max Temp</th>\n      <th>Current Description</th>\n      <th>Lat</th>\n      <th>Lng</th>\n    </tr>\n  </thead>\n  <tbody>\n    <tr>\n      <th>0</th>\n      <td>702</td>\n      <td>Kruisfontein</td>\n      <td>ZA</td>\n      <td>80.01</td>\n      <td>clear sky</td>\n      <td>-34.00</td>\n      <td>24.73</td>\n    </tr>\n    <tr>\n      <th>1</th>\n      <td>704</td>\n      <td>Dingle</td>\n      <td>PH</td>\n      <td>78.03</td>\n      <td>light rain</td>\n      <td>11.00</td>\n      <td>122.67</td>\n    </tr>\n    <tr>\n      <th>2</th>\n      <td>706</td>\n      <td>Bredasdorp</td>\n      <td>ZA</td>\n      <td>75.20</td>\n      <td>clear sky</td>\n      <td>-34.53</td>\n      <td>20.04</td>\n    </tr>\n    <tr>\n      <th>3</th>\n      <td>707</td>\n      <td>Malumfashi</td>\n      <td>NG</td>\n      <td>77.29</td>\n      <td>clear sky</td>\n      <td>11.79</td>\n      <td>7.62</td>\n    </tr>\n    <tr>\n      <th>4</th>\n      <td>710</td>\n      <td>Vaini</td>\n      <td>TO</td>\n      <td>78.80</td>\n      <td>light rain</td>\n      <td>-21.20</td>\n      <td>-175.20</td>\n    </tr>\n    <tr>\n      <th>5</th>\n      <td>711</td>\n      <td>Wewak</td>\n      <td>PG</td>\n      <td>81.30</td>\n      <td>scattered clouds</td>\n      <td>-3.55</td>\n      <td>143.63</td>\n    </tr>\n    <tr>\n      <th>6</th>\n      <td>713</td>\n      <td>Kapaa</td>\n      <td>US</td>\n      <td>75.20</td>\n      <td>clear sky</td>\n      <td>22.08</td>\n      <td>-159.32</td>\n    </tr>\n    <tr>\n      <th>7</th>\n      <td>715</td>\n      <td>Grand Gaube</td>\n      <td>MU</td>\n      <td>82.00</td>\n      <td>overcast clouds</td>\n      <td>-20.01</td>\n      <td>57.66</td>\n    </tr>\n    <tr>\n      <th>8</th>\n      <td>716</td>\n      <td>Hermanus</td>\n      <td>ZA</td>\n      <td>81.00</td>\n      <td>clear sky</td>\n      <td>-34.42</td>\n      <td>19.23</td>\n    </tr>\n    <tr>\n      <th>9</th>\n      <td>718</td>\n      <td>Saint-Philippe</td>\n      <td>RE</td>\n      <td>87.80</td>\n      <td>light rain</td>\n      <td>-21.36</td>\n      <td>55.77</td>\n    </tr>\n  </tbody>\n</table>\n</div>"
     },
     "metadata": {},
     "execution_count": 6
    }
   ],
   "source": [
    "# 3. Filter the city_data_df DataFrame using the input statements to create a new DataFrame using the loc method.\n",
    "preferred_cities_df = city_data_df.loc[(city_data_df[\"Max Temp\"] <= max_temp) & (city_data_df[\"Max Temp\"] >= min_temp)]\n",
    "\n",
    "preferred_cities_df.head(10)"
   ]
  },
  {
   "cell_type": "code",
   "execution_count": 7,
   "metadata": {},
   "outputs": [
    {
     "output_type": "execute_result",
     "data": {
      "text/plain": [
       "City_ID                  int64\n",
       "City                    object\n",
       "Country                 object\n",
       "Max Temp               float64\n",
       "Current Description     object\n",
       "Lat                    float64\n",
       "Lng                    float64\n",
       "dtype: object"
      ]
     },
     "metadata": {},
     "execution_count": 7
    }
   ],
   "source": [
    "preferred_cities_df.dtypes"
   ]
  },
  {
   "cell_type": "code",
   "execution_count": 9,
   "metadata": {},
   "outputs": [
    {
     "output_type": "execute_result",
     "data": {
      "text/plain": [
       "City_ID                194\n",
       "City                   194\n",
       "Country                194\n",
       "Max Temp               194\n",
       "Current Description    194\n",
       "Lat                    194\n",
       "Lng                    194\n",
       "dtype: int64"
      ]
     },
     "metadata": {},
     "execution_count": 9
    }
   ],
   "source": [
    "# 4a. Determine if there are any empty rows.\n",
    "preferred_cities_df.count()"
   ]
  },
  {
   "cell_type": "code",
   "execution_count": 10,
   "metadata": {},
   "outputs": [],
   "source": [
    "# 4b. Drop any empty rows and create a new DataFrame that doesn’t have empty rows.\n",
    "clean_df = preferred_cities_df.dropna()"
   ]
  },
  {
   "cell_type": "code",
   "execution_count": 11,
   "metadata": {},
   "outputs": [
    {
     "output_type": "execute_result",
     "data": {
      "text/plain": [
       "    City_ID                      City Country  Max Temp  \\\n",
       "0       702              Kruisfontein      ZA     80.01   \n",
       "1       704                    Dingle      PH     78.03   \n",
       "2       706                Bredasdorp      ZA     75.20   \n",
       "3       707                Malumfashi      NG     77.29   \n",
       "4       710                     Vaini      TO     78.80   \n",
       "5       711                     Wewak      PG     81.30   \n",
       "6       713                     Kapaa      US     75.20   \n",
       "7       715               Grand Gaube      MU     82.00   \n",
       "8       716                  Hermanus      ZA     81.00   \n",
       "9       718            Saint-Philippe      RE     87.80   \n",
       "10      724                 Busselton      AU     84.00   \n",
       "11      726                     Bowen      AU     80.60   \n",
       "12      729                   Rikitea      PF     78.55   \n",
       "13      734                Butaritari      KI     81.30   \n",
       "14      737                 Cape Town      ZA     75.20   \n",
       "15      738                    Kiunga      PG     80.19   \n",
       "16      743                    Majene      ID     81.66   \n",
       "17      744              Quatre Cocos      MU     84.20   \n",
       "18      748                     Alofi      NU     77.00   \n",
       "19      757                   Kavieng      PG     84.33   \n",
       "20      758                 Inhambane      MZ     89.60   \n",
       "21      764                  Cabedelo      BR     78.80   \n",
       "22      773                Georgetown      MY     87.80   \n",
       "23      787                  Kedougou      SN     78.80   \n",
       "24      793             Bambanglipuro      ID     81.46   \n",
       "25      797                    Atuona      PF     78.03   \n",
       "26      799           Bambous Virieux      MU     84.20   \n",
       "27      800              Richards Bay      ZA     82.02   \n",
       "28      802               Port-Gentil      GA     82.40   \n",
       "29      804                    Avarua      CK     77.00   \n",
       "30      805                 Abu Dhabi      AE     75.20   \n",
       "31      809             Pozo Colorado      PY     76.44   \n",
       "32      816                 Bathsheba      BB     75.20   \n",
       "33      818                Itupiranga      BR     75.20   \n",
       "34      820                  Souillac      MU     84.20   \n",
       "35      826                     Natal      BR     77.00   \n",
       "36      828                 Hithadhoo      MV     82.54   \n",
       "37      829                  Bengkulu      ID     81.34   \n",
       "38      830                 Mahebourg      MU     84.20   \n",
       "39      831                    Noumea      NC     80.60   \n",
       "40      840                 Panlaitan      PH     81.95   \n",
       "41      844                  Cyangugu      RW     75.81   \n",
       "42      846  Sao Jose Da Coroa Grande      BR     78.62   \n",
       "43      850                   Isangel      VU     79.14   \n",
       "44      852           Arraial Do Cabo      BR     75.20   \n",
       "45      853                    Bonoua      CI     84.20   \n",
       "46      856                    Banjar      ID     84.20   \n",
       "47      862                    Kigoma      TZ     80.60   \n",
       "48      866                  Maragogi      BR     78.66   \n",
       "49      868                 Wattegama      LK     82.40   \n",
       "\n",
       "            Current Description    Lat     Lng  \n",
       "0                     clear sky -34.00   24.73  \n",
       "1                    light rain  11.00  122.67  \n",
       "2                     clear sky -34.53   20.04  \n",
       "3                     clear sky  11.79    7.62  \n",
       "4                    light rain -21.20 -175.20  \n",
       "5              scattered clouds  -3.55  143.63  \n",
       "6                     clear sky  22.08 -159.32  \n",
       "7               overcast clouds -20.01   57.66  \n",
       "8                     clear sky -34.42   19.23  \n",
       "9                    light rain -21.36   55.77  \n",
       "10                broken clouds -33.65  115.33  \n",
       "11             scattered clouds -20.02  148.23  \n",
       "12                   light rain -23.12 -134.97  \n",
       "13                   light rain   3.07  172.79  \n",
       "14                    clear sky -33.93   18.42  \n",
       "15                broken clouds  -6.12  141.29  \n",
       "16              overcast clouds  -3.54  118.97  \n",
       "17                broken clouds -20.21   57.76  \n",
       "18                   light rain -19.06 -169.92  \n",
       "19                broken clouds  -2.57  150.80  \n",
       "20                   few clouds -23.86   35.38  \n",
       "21                   few clouds  -6.98  -34.83  \n",
       "22                   few clouds   5.41  100.34  \n",
       "23                    clear sky  12.56  -12.17  \n",
       "24              overcast clouds  -7.95  110.28  \n",
       "25                    clear sky  -9.80 -139.03  \n",
       "26                broken clouds -20.34   57.76  \n",
       "27                    clear sky -28.78   32.04  \n",
       "28                   few clouds  -0.72    8.78  \n",
       "29                broken clouds -21.21 -159.78  \n",
       "30                    clear sky  24.47   54.37  \n",
       "31              overcast clouds -23.49  -58.80  \n",
       "32                broken clouds  13.22  -59.52  \n",
       "33                    clear sky  -5.13  -49.33  \n",
       "34                broken clouds -20.52   57.52  \n",
       "35                broken clouds  -5.79  -35.21  \n",
       "36             scattered clouds  -0.60   73.08  \n",
       "37         heavy intensity rain  -3.80  102.27  \n",
       "38                broken clouds -20.41   57.70  \n",
       "39                    clear sky -22.28  166.46  \n",
       "40              overcast clouds  12.12  119.85  \n",
       "41                   light rain  -2.48   28.91  \n",
       "42                broken clouds  -8.90  -35.15  \n",
       "43                   few clouds -19.55  169.27  \n",
       "44                    clear sky -22.97  -42.03  \n",
       "45                   light rain   5.27   -3.60  \n",
       "46                   few clouds  -8.19  114.97  \n",
       "47                   light rain  -4.88   29.63  \n",
       "48                broken clouds  -9.01  -35.22  \n",
       "49  light intensity shower rain   6.80   81.48  "
      ],
      "text/html": "<div>\n<style scoped>\n    .dataframe tbody tr th:only-of-type {\n        vertical-align: middle;\n    }\n\n    .dataframe tbody tr th {\n        vertical-align: top;\n    }\n\n    .dataframe thead th {\n        text-align: right;\n    }\n</style>\n<table border=\"1\" class=\"dataframe\">\n  <thead>\n    <tr style=\"text-align: right;\">\n      <th></th>\n      <th>City_ID</th>\n      <th>City</th>\n      <th>Country</th>\n      <th>Max Temp</th>\n      <th>Current Description</th>\n      <th>Lat</th>\n      <th>Lng</th>\n    </tr>\n  </thead>\n  <tbody>\n    <tr>\n      <th>0</th>\n      <td>702</td>\n      <td>Kruisfontein</td>\n      <td>ZA</td>\n      <td>80.01</td>\n      <td>clear sky</td>\n      <td>-34.00</td>\n      <td>24.73</td>\n    </tr>\n    <tr>\n      <th>1</th>\n      <td>704</td>\n      <td>Dingle</td>\n      <td>PH</td>\n      <td>78.03</td>\n      <td>light rain</td>\n      <td>11.00</td>\n      <td>122.67</td>\n    </tr>\n    <tr>\n      <th>2</th>\n      <td>706</td>\n      <td>Bredasdorp</td>\n      <td>ZA</td>\n      <td>75.20</td>\n      <td>clear sky</td>\n      <td>-34.53</td>\n      <td>20.04</td>\n    </tr>\n    <tr>\n      <th>3</th>\n      <td>707</td>\n      <td>Malumfashi</td>\n      <td>NG</td>\n      <td>77.29</td>\n      <td>clear sky</td>\n      <td>11.79</td>\n      <td>7.62</td>\n    </tr>\n    <tr>\n      <th>4</th>\n      <td>710</td>\n      <td>Vaini</td>\n      <td>TO</td>\n      <td>78.80</td>\n      <td>light rain</td>\n      <td>-21.20</td>\n      <td>-175.20</td>\n    </tr>\n    <tr>\n      <th>5</th>\n      <td>711</td>\n      <td>Wewak</td>\n      <td>PG</td>\n      <td>81.30</td>\n      <td>scattered clouds</td>\n      <td>-3.55</td>\n      <td>143.63</td>\n    </tr>\n    <tr>\n      <th>6</th>\n      <td>713</td>\n      <td>Kapaa</td>\n      <td>US</td>\n      <td>75.20</td>\n      <td>clear sky</td>\n      <td>22.08</td>\n      <td>-159.32</td>\n    </tr>\n    <tr>\n      <th>7</th>\n      <td>715</td>\n      <td>Grand Gaube</td>\n      <td>MU</td>\n      <td>82.00</td>\n      <td>overcast clouds</td>\n      <td>-20.01</td>\n      <td>57.66</td>\n    </tr>\n    <tr>\n      <th>8</th>\n      <td>716</td>\n      <td>Hermanus</td>\n      <td>ZA</td>\n      <td>81.00</td>\n      <td>clear sky</td>\n      <td>-34.42</td>\n      <td>19.23</td>\n    </tr>\n    <tr>\n      <th>9</th>\n      <td>718</td>\n      <td>Saint-Philippe</td>\n      <td>RE</td>\n      <td>87.80</td>\n      <td>light rain</td>\n      <td>-21.36</td>\n      <td>55.77</td>\n    </tr>\n    <tr>\n      <th>10</th>\n      <td>724</td>\n      <td>Busselton</td>\n      <td>AU</td>\n      <td>84.00</td>\n      <td>broken clouds</td>\n      <td>-33.65</td>\n      <td>115.33</td>\n    </tr>\n    <tr>\n      <th>11</th>\n      <td>726</td>\n      <td>Bowen</td>\n      <td>AU</td>\n      <td>80.60</td>\n      <td>scattered clouds</td>\n      <td>-20.02</td>\n      <td>148.23</td>\n    </tr>\n    <tr>\n      <th>12</th>\n      <td>729</td>\n      <td>Rikitea</td>\n      <td>PF</td>\n      <td>78.55</td>\n      <td>light rain</td>\n      <td>-23.12</td>\n      <td>-134.97</td>\n    </tr>\n    <tr>\n      <th>13</th>\n      <td>734</td>\n      <td>Butaritari</td>\n      <td>KI</td>\n      <td>81.30</td>\n      <td>light rain</td>\n      <td>3.07</td>\n      <td>172.79</td>\n    </tr>\n    <tr>\n      <th>14</th>\n      <td>737</td>\n      <td>Cape Town</td>\n      <td>ZA</td>\n      <td>75.20</td>\n      <td>clear sky</td>\n      <td>-33.93</td>\n      <td>18.42</td>\n    </tr>\n    <tr>\n      <th>15</th>\n      <td>738</td>\n      <td>Kiunga</td>\n      <td>PG</td>\n      <td>80.19</td>\n      <td>broken clouds</td>\n      <td>-6.12</td>\n      <td>141.29</td>\n    </tr>\n    <tr>\n      <th>16</th>\n      <td>743</td>\n      <td>Majene</td>\n      <td>ID</td>\n      <td>81.66</td>\n      <td>overcast clouds</td>\n      <td>-3.54</td>\n      <td>118.97</td>\n    </tr>\n    <tr>\n      <th>17</th>\n      <td>744</td>\n      <td>Quatre Cocos</td>\n      <td>MU</td>\n      <td>84.20</td>\n      <td>broken clouds</td>\n      <td>-20.21</td>\n      <td>57.76</td>\n    </tr>\n    <tr>\n      <th>18</th>\n      <td>748</td>\n      <td>Alofi</td>\n      <td>NU</td>\n      <td>77.00</td>\n      <td>light rain</td>\n      <td>-19.06</td>\n      <td>-169.92</td>\n    </tr>\n    <tr>\n      <th>19</th>\n      <td>757</td>\n      <td>Kavieng</td>\n      <td>PG</td>\n      <td>84.33</td>\n      <td>broken clouds</td>\n      <td>-2.57</td>\n      <td>150.80</td>\n    </tr>\n    <tr>\n      <th>20</th>\n      <td>758</td>\n      <td>Inhambane</td>\n      <td>MZ</td>\n      <td>89.60</td>\n      <td>few clouds</td>\n      <td>-23.86</td>\n      <td>35.38</td>\n    </tr>\n    <tr>\n      <th>21</th>\n      <td>764</td>\n      <td>Cabedelo</td>\n      <td>BR</td>\n      <td>78.80</td>\n      <td>few clouds</td>\n      <td>-6.98</td>\n      <td>-34.83</td>\n    </tr>\n    <tr>\n      <th>22</th>\n      <td>773</td>\n      <td>Georgetown</td>\n      <td>MY</td>\n      <td>87.80</td>\n      <td>few clouds</td>\n      <td>5.41</td>\n      <td>100.34</td>\n    </tr>\n    <tr>\n      <th>23</th>\n      <td>787</td>\n      <td>Kedougou</td>\n      <td>SN</td>\n      <td>78.80</td>\n      <td>clear sky</td>\n      <td>12.56</td>\n      <td>-12.17</td>\n    </tr>\n    <tr>\n      <th>24</th>\n      <td>793</td>\n      <td>Bambanglipuro</td>\n      <td>ID</td>\n      <td>81.46</td>\n      <td>overcast clouds</td>\n      <td>-7.95</td>\n      <td>110.28</td>\n    </tr>\n    <tr>\n      <th>25</th>\n      <td>797</td>\n      <td>Atuona</td>\n      <td>PF</td>\n      <td>78.03</td>\n      <td>clear sky</td>\n      <td>-9.80</td>\n      <td>-139.03</td>\n    </tr>\n    <tr>\n      <th>26</th>\n      <td>799</td>\n      <td>Bambous Virieux</td>\n      <td>MU</td>\n      <td>84.20</td>\n      <td>broken clouds</td>\n      <td>-20.34</td>\n      <td>57.76</td>\n    </tr>\n    <tr>\n      <th>27</th>\n      <td>800</td>\n      <td>Richards Bay</td>\n      <td>ZA</td>\n      <td>82.02</td>\n      <td>clear sky</td>\n      <td>-28.78</td>\n      <td>32.04</td>\n    </tr>\n    <tr>\n      <th>28</th>\n      <td>802</td>\n      <td>Port-Gentil</td>\n      <td>GA</td>\n      <td>82.40</td>\n      <td>few clouds</td>\n      <td>-0.72</td>\n      <td>8.78</td>\n    </tr>\n    <tr>\n      <th>29</th>\n      <td>804</td>\n      <td>Avarua</td>\n      <td>CK</td>\n      <td>77.00</td>\n      <td>broken clouds</td>\n      <td>-21.21</td>\n      <td>-159.78</td>\n    </tr>\n    <tr>\n      <th>30</th>\n      <td>805</td>\n      <td>Abu Dhabi</td>\n      <td>AE</td>\n      <td>75.20</td>\n      <td>clear sky</td>\n      <td>24.47</td>\n      <td>54.37</td>\n    </tr>\n    <tr>\n      <th>31</th>\n      <td>809</td>\n      <td>Pozo Colorado</td>\n      <td>PY</td>\n      <td>76.44</td>\n      <td>overcast clouds</td>\n      <td>-23.49</td>\n      <td>-58.80</td>\n    </tr>\n    <tr>\n      <th>32</th>\n      <td>816</td>\n      <td>Bathsheba</td>\n      <td>BB</td>\n      <td>75.20</td>\n      <td>broken clouds</td>\n      <td>13.22</td>\n      <td>-59.52</td>\n    </tr>\n    <tr>\n      <th>33</th>\n      <td>818</td>\n      <td>Itupiranga</td>\n      <td>BR</td>\n      <td>75.20</td>\n      <td>clear sky</td>\n      <td>-5.13</td>\n      <td>-49.33</td>\n    </tr>\n    <tr>\n      <th>34</th>\n      <td>820</td>\n      <td>Souillac</td>\n      <td>MU</td>\n      <td>84.20</td>\n      <td>broken clouds</td>\n      <td>-20.52</td>\n      <td>57.52</td>\n    </tr>\n    <tr>\n      <th>35</th>\n      <td>826</td>\n      <td>Natal</td>\n      <td>BR</td>\n      <td>77.00</td>\n      <td>broken clouds</td>\n      <td>-5.79</td>\n      <td>-35.21</td>\n    </tr>\n    <tr>\n      <th>36</th>\n      <td>828</td>\n      <td>Hithadhoo</td>\n      <td>MV</td>\n      <td>82.54</td>\n      <td>scattered clouds</td>\n      <td>-0.60</td>\n      <td>73.08</td>\n    </tr>\n    <tr>\n      <th>37</th>\n      <td>829</td>\n      <td>Bengkulu</td>\n      <td>ID</td>\n      <td>81.34</td>\n      <td>heavy intensity rain</td>\n      <td>-3.80</td>\n      <td>102.27</td>\n    </tr>\n    <tr>\n      <th>38</th>\n      <td>830</td>\n      <td>Mahebourg</td>\n      <td>MU</td>\n      <td>84.20</td>\n      <td>broken clouds</td>\n      <td>-20.41</td>\n      <td>57.70</td>\n    </tr>\n    <tr>\n      <th>39</th>\n      <td>831</td>\n      <td>Noumea</td>\n      <td>NC</td>\n      <td>80.60</td>\n      <td>clear sky</td>\n      <td>-22.28</td>\n      <td>166.46</td>\n    </tr>\n    <tr>\n      <th>40</th>\n      <td>840</td>\n      <td>Panlaitan</td>\n      <td>PH</td>\n      <td>81.95</td>\n      <td>overcast clouds</td>\n      <td>12.12</td>\n      <td>119.85</td>\n    </tr>\n    <tr>\n      <th>41</th>\n      <td>844</td>\n      <td>Cyangugu</td>\n      <td>RW</td>\n      <td>75.81</td>\n      <td>light rain</td>\n      <td>-2.48</td>\n      <td>28.91</td>\n    </tr>\n    <tr>\n      <th>42</th>\n      <td>846</td>\n      <td>Sao Jose Da Coroa Grande</td>\n      <td>BR</td>\n      <td>78.62</td>\n      <td>broken clouds</td>\n      <td>-8.90</td>\n      <td>-35.15</td>\n    </tr>\n    <tr>\n      <th>43</th>\n      <td>850</td>\n      <td>Isangel</td>\n      <td>VU</td>\n      <td>79.14</td>\n      <td>few clouds</td>\n      <td>-19.55</td>\n      <td>169.27</td>\n    </tr>\n    <tr>\n      <th>44</th>\n      <td>852</td>\n      <td>Arraial Do Cabo</td>\n      <td>BR</td>\n      <td>75.20</td>\n      <td>clear sky</td>\n      <td>-22.97</td>\n      <td>-42.03</td>\n    </tr>\n    <tr>\n      <th>45</th>\n      <td>853</td>\n      <td>Bonoua</td>\n      <td>CI</td>\n      <td>84.20</td>\n      <td>light rain</td>\n      <td>5.27</td>\n      <td>-3.60</td>\n    </tr>\n    <tr>\n      <th>46</th>\n      <td>856</td>\n      <td>Banjar</td>\n      <td>ID</td>\n      <td>84.20</td>\n      <td>few clouds</td>\n      <td>-8.19</td>\n      <td>114.97</td>\n    </tr>\n    <tr>\n      <th>47</th>\n      <td>862</td>\n      <td>Kigoma</td>\n      <td>TZ</td>\n      <td>80.60</td>\n      <td>light rain</td>\n      <td>-4.88</td>\n      <td>29.63</td>\n    </tr>\n    <tr>\n      <th>48</th>\n      <td>866</td>\n      <td>Maragogi</td>\n      <td>BR</td>\n      <td>78.66</td>\n      <td>broken clouds</td>\n      <td>-9.01</td>\n      <td>-35.22</td>\n    </tr>\n    <tr>\n      <th>49</th>\n      <td>868</td>\n      <td>Wattegama</td>\n      <td>LK</td>\n      <td>82.40</td>\n      <td>light intensity shower rain</td>\n      <td>6.80</td>\n      <td>81.48</td>\n    </tr>\n  </tbody>\n</table>\n</div>"
     },
     "metadata": {},
     "execution_count": 11
    }
   ],
   "source": [
    "clean_df.head(50)"
   ]
  },
  {
   "cell_type": "code",
   "execution_count": 14,
   "metadata": {},
   "outputs": [
    {
     "output_type": "execute_result",
     "data": {
      "text/plain": [
       "             City Country  Max Temp      Current Description    Lat     Lng  \\\n",
       "0    Kruisfontein      ZA     80.01                clear sky -34.00   24.73   \n",
       "1          Dingle      PH     78.03               light rain  11.00  122.67   \n",
       "2      Bredasdorp      ZA     75.20                clear sky -34.53   20.04   \n",
       "3      Malumfashi      NG     77.29                clear sky  11.79    7.62   \n",
       "4           Vaini      TO     78.80               light rain -21.20 -175.20   \n",
       "..            ...     ...       ...                      ...    ...     ...   \n",
       "189       Merauke      ID     82.74          overcast clouds  -8.47  140.33   \n",
       "190       Honiara      SB     78.80  light intensity drizzle  -9.43  159.95   \n",
       "191          Gizo      SB     83.73               light rain  -8.10  156.84   \n",
       "192        Bonfim      BR     75.40          overcast clouds   3.08  -59.95   \n",
       "193      Karratha      AU     85.69                clear sky -20.74  116.85   \n",
       "\n",
       "    Hotel Name  \n",
       "0               \n",
       "1               \n",
       "2               \n",
       "3               \n",
       "4               \n",
       "..         ...  \n",
       "189             \n",
       "190             \n",
       "191             \n",
       "192             \n",
       "193             \n",
       "\n",
       "[194 rows x 7 columns]"
      ],
      "text/html": "<div>\n<style scoped>\n    .dataframe tbody tr th:only-of-type {\n        vertical-align: middle;\n    }\n\n    .dataframe tbody tr th {\n        vertical-align: top;\n    }\n\n    .dataframe thead th {\n        text-align: right;\n    }\n</style>\n<table border=\"1\" class=\"dataframe\">\n  <thead>\n    <tr style=\"text-align: right;\">\n      <th></th>\n      <th>City</th>\n      <th>Country</th>\n      <th>Max Temp</th>\n      <th>Current Description</th>\n      <th>Lat</th>\n      <th>Lng</th>\n      <th>Hotel Name</th>\n    </tr>\n  </thead>\n  <tbody>\n    <tr>\n      <th>0</th>\n      <td>Kruisfontein</td>\n      <td>ZA</td>\n      <td>80.01</td>\n      <td>clear sky</td>\n      <td>-34.00</td>\n      <td>24.73</td>\n      <td></td>\n    </tr>\n    <tr>\n      <th>1</th>\n      <td>Dingle</td>\n      <td>PH</td>\n      <td>78.03</td>\n      <td>light rain</td>\n      <td>11.00</td>\n      <td>122.67</td>\n      <td></td>\n    </tr>\n    <tr>\n      <th>2</th>\n      <td>Bredasdorp</td>\n      <td>ZA</td>\n      <td>75.20</td>\n      <td>clear sky</td>\n      <td>-34.53</td>\n      <td>20.04</td>\n      <td></td>\n    </tr>\n    <tr>\n      <th>3</th>\n      <td>Malumfashi</td>\n      <td>NG</td>\n      <td>77.29</td>\n      <td>clear sky</td>\n      <td>11.79</td>\n      <td>7.62</td>\n      <td></td>\n    </tr>\n    <tr>\n      <th>4</th>\n      <td>Vaini</td>\n      <td>TO</td>\n      <td>78.80</td>\n      <td>light rain</td>\n      <td>-21.20</td>\n      <td>-175.20</td>\n      <td></td>\n    </tr>\n    <tr>\n      <th>...</th>\n      <td>...</td>\n      <td>...</td>\n      <td>...</td>\n      <td>...</td>\n      <td>...</td>\n      <td>...</td>\n      <td>...</td>\n    </tr>\n    <tr>\n      <th>189</th>\n      <td>Merauke</td>\n      <td>ID</td>\n      <td>82.74</td>\n      <td>overcast clouds</td>\n      <td>-8.47</td>\n      <td>140.33</td>\n      <td></td>\n    </tr>\n    <tr>\n      <th>190</th>\n      <td>Honiara</td>\n      <td>SB</td>\n      <td>78.80</td>\n      <td>light intensity drizzle</td>\n      <td>-9.43</td>\n      <td>159.95</td>\n      <td></td>\n    </tr>\n    <tr>\n      <th>191</th>\n      <td>Gizo</td>\n      <td>SB</td>\n      <td>83.73</td>\n      <td>light rain</td>\n      <td>-8.10</td>\n      <td>156.84</td>\n      <td></td>\n    </tr>\n    <tr>\n      <th>192</th>\n      <td>Bonfim</td>\n      <td>BR</td>\n      <td>75.40</td>\n      <td>overcast clouds</td>\n      <td>3.08</td>\n      <td>-59.95</td>\n      <td></td>\n    </tr>\n    <tr>\n      <th>193</th>\n      <td>Karratha</td>\n      <td>AU</td>\n      <td>85.69</td>\n      <td>clear sky</td>\n      <td>-20.74</td>\n      <td>116.85</td>\n      <td></td>\n    </tr>\n  </tbody>\n</table>\n<p>194 rows × 7 columns</p>\n</div>"
     },
     "metadata": {},
     "execution_count": 14
    }
   ],
   "source": [
    "# 5a. Create DataFrame called hotel_df to store hotel names along with city, country, max temp, and coordinates.\n",
    "hotel_df = clean_df[[\"City\", \"Country\", \"Max Temp\", \"Current Description\", \"Lat\", \"Lng\"]].copy()\n",
    "\n",
    "# 5b. Create a new column \"Hotel Name\"\n",
    "hotel_df[\"Hotel Name\"] = \"\"\n",
    "hotel_df"
   ]
  },
  {
   "cell_type": "code",
   "execution_count": 15,
   "metadata": {},
   "outputs": [],
   "source": [
    "# 6a. Set parameters to search for hotels with 5000 meters.\n",
    "params = {\n",
    "    \"radius\": 5000,\n",
    "    \"type\": \"lodging\",\n",
    "    \"key\": g_key\n",
    "}\n",
    "\n",
    "# 6b. Iterate through the hotel DataFrame.\n",
    "for index, row in hotel_df.iterrows():\n",
    "    # 6c. Get latitude and longitude from DataFrame\n",
    "    lat = row[\"Lat\"]\n",
    "    lng = row[\"Lng\"]\n",
    "    params[\"location\"] = f\"{lat},{lng}\"\n",
    "    # 6d. Set up the base URL for the Google Directions API to get JSON data.\n",
    "    base_url = \"https://maps.googleapis.com/maps/api/place/nearbysearch/json\"\n",
    "\n",
    "    # 6e. Make request and retrieve the JSON data from the search. \n",
    "    hotels = requests.get(base_url, params=params).json()\n",
    "    \n",
    "    # 6f. Get the first hotel from the results and store the name, if a hotel isn't found skip the city.\n",
    "try:\n",
    "    hotel_df.loc[index, \"Hotel Name\"] = hotels[\"results\"][0][\"name\"]\n",
    "except(IndexError):\n",
    "    print(\"Hotel not found... skipping.\")\n",
    "        "
   ]
  },
  {
   "cell_type": "code",
   "execution_count": 16,
   "metadata": {},
   "outputs": [
    {
     "output_type": "execute_result",
     "data": {
      "text/plain": [
       "             City Country  Max Temp      Current Description    Lat     Lng  \\\n",
       "0    Kruisfontein      ZA     80.01                clear sky -34.00   24.73   \n",
       "1          Dingle      PH     78.03               light rain  11.00  122.67   \n",
       "2      Bredasdorp      ZA     75.20                clear sky -34.53   20.04   \n",
       "3      Malumfashi      NG     77.29                clear sky  11.79    7.62   \n",
       "4           Vaini      TO     78.80               light rain -21.20 -175.20   \n",
       "..            ...     ...       ...                      ...    ...     ...   \n",
       "189       Merauke      ID     82.74          overcast clouds  -8.47  140.33   \n",
       "190       Honiara      SB     78.80  light intensity drizzle  -9.43  159.95   \n",
       "191          Gizo      SB     83.73               light rain  -8.10  156.84   \n",
       "192        Bonfim      BR     75.40          overcast clouds   3.08  -59.95   \n",
       "193      Karratha      AU     85.69                clear sky -20.74  116.85   \n",
       "\n",
       "               Hotel Name  \n",
       "0                          \n",
       "1                          \n",
       "2                          \n",
       "3                          \n",
       "4                          \n",
       "..                    ...  \n",
       "189                        \n",
       "190                        \n",
       "191                        \n",
       "192                        \n",
       "193  ibis Styles Karratha  \n",
       "\n",
       "[194 rows x 7 columns]"
      ],
      "text/html": "<div>\n<style scoped>\n    .dataframe tbody tr th:only-of-type {\n        vertical-align: middle;\n    }\n\n    .dataframe tbody tr th {\n        vertical-align: top;\n    }\n\n    .dataframe thead th {\n        text-align: right;\n    }\n</style>\n<table border=\"1\" class=\"dataframe\">\n  <thead>\n    <tr style=\"text-align: right;\">\n      <th></th>\n      <th>City</th>\n      <th>Country</th>\n      <th>Max Temp</th>\n      <th>Current Description</th>\n      <th>Lat</th>\n      <th>Lng</th>\n      <th>Hotel Name</th>\n    </tr>\n  </thead>\n  <tbody>\n    <tr>\n      <th>0</th>\n      <td>Kruisfontein</td>\n      <td>ZA</td>\n      <td>80.01</td>\n      <td>clear sky</td>\n      <td>-34.00</td>\n      <td>24.73</td>\n      <td></td>\n    </tr>\n    <tr>\n      <th>1</th>\n      <td>Dingle</td>\n      <td>PH</td>\n      <td>78.03</td>\n      <td>light rain</td>\n      <td>11.00</td>\n      <td>122.67</td>\n      <td></td>\n    </tr>\n    <tr>\n      <th>2</th>\n      <td>Bredasdorp</td>\n      <td>ZA</td>\n      <td>75.20</td>\n      <td>clear sky</td>\n      <td>-34.53</td>\n      <td>20.04</td>\n      <td></td>\n    </tr>\n    <tr>\n      <th>3</th>\n      <td>Malumfashi</td>\n      <td>NG</td>\n      <td>77.29</td>\n      <td>clear sky</td>\n      <td>11.79</td>\n      <td>7.62</td>\n      <td></td>\n    </tr>\n    <tr>\n      <th>4</th>\n      <td>Vaini</td>\n      <td>TO</td>\n      <td>78.80</td>\n      <td>light rain</td>\n      <td>-21.20</td>\n      <td>-175.20</td>\n      <td></td>\n    </tr>\n    <tr>\n      <th>...</th>\n      <td>...</td>\n      <td>...</td>\n      <td>...</td>\n      <td>...</td>\n      <td>...</td>\n      <td>...</td>\n      <td>...</td>\n    </tr>\n    <tr>\n      <th>189</th>\n      <td>Merauke</td>\n      <td>ID</td>\n      <td>82.74</td>\n      <td>overcast clouds</td>\n      <td>-8.47</td>\n      <td>140.33</td>\n      <td></td>\n    </tr>\n    <tr>\n      <th>190</th>\n      <td>Honiara</td>\n      <td>SB</td>\n      <td>78.80</td>\n      <td>light intensity drizzle</td>\n      <td>-9.43</td>\n      <td>159.95</td>\n      <td></td>\n    </tr>\n    <tr>\n      <th>191</th>\n      <td>Gizo</td>\n      <td>SB</td>\n      <td>83.73</td>\n      <td>light rain</td>\n      <td>-8.10</td>\n      <td>156.84</td>\n      <td></td>\n    </tr>\n    <tr>\n      <th>192</th>\n      <td>Bonfim</td>\n      <td>BR</td>\n      <td>75.40</td>\n      <td>overcast clouds</td>\n      <td>3.08</td>\n      <td>-59.95</td>\n      <td></td>\n    </tr>\n    <tr>\n      <th>193</th>\n      <td>Karratha</td>\n      <td>AU</td>\n      <td>85.69</td>\n      <td>clear sky</td>\n      <td>-20.74</td>\n      <td>116.85</td>\n      <td>ibis Styles Karratha</td>\n    </tr>\n  </tbody>\n</table>\n<p>194 rows × 7 columns</p>\n</div>"
     },
     "metadata": {},
     "execution_count": 16
    }
   ],
   "source": [
    "hotel_df"
   ]
  },
  {
   "cell_type": "code",
   "execution_count": 36,
   "metadata": {},
   "outputs": [],
   "source": [
    "# 7. Drop the rows where there is no Hotel Name.\n",
    "clean_hotel_df = hotel_df.dropna()"
   ]
  },
  {
   "cell_type": "code",
   "execution_count": 42,
   "metadata": {},
   "outputs": [
    {
     "output_type": "execute_result",
     "data": {
      "text/plain": [
       "                         City Country  Max Temp          Current Description  \\\n",
       "702              Kruisfontein      ZA     80.01                    clear sky   \n",
       "704                    Dingle      PH     78.03                   light rain   \n",
       "706                Bredasdorp      ZA     75.20                    clear sky   \n",
       "707                Malumfashi      NG     77.29                    clear sky   \n",
       "710                     Vaini      TO     78.80                   light rain   \n",
       "711                     Wewak      PG     81.30             scattered clouds   \n",
       "713                     Kapaa      US     75.20                    clear sky   \n",
       "715               Grand Gaube      MU     82.00              overcast clouds   \n",
       "716                  Hermanus      ZA     81.00                    clear sky   \n",
       "718            Saint-Philippe      RE     87.80                   light rain   \n",
       "724                 Busselton      AU     84.00                broken clouds   \n",
       "726                     Bowen      AU     80.60             scattered clouds   \n",
       "729                   Rikitea      PF     78.55                   light rain   \n",
       "734                Butaritari      KI     81.30                   light rain   \n",
       "737                 Cape Town      ZA     75.20                    clear sky   \n",
       "738                    Kiunga      PG     80.19                broken clouds   \n",
       "743                    Majene      ID     81.66              overcast clouds   \n",
       "744              Quatre Cocos      MU     84.20                broken clouds   \n",
       "748                     Alofi      NU     77.00                   light rain   \n",
       "757                   Kavieng      PG     84.33                broken clouds   \n",
       "758                 Inhambane      MZ     89.60                   few clouds   \n",
       "764                  Cabedelo      BR     78.80                   few clouds   \n",
       "773                Georgetown      MY     87.80                   few clouds   \n",
       "787                  Kedougou      SN     78.80                    clear sky   \n",
       "793             Bambanglipuro      ID     81.46              overcast clouds   \n",
       "797                    Atuona      PF     78.03                    clear sky   \n",
       "799           Bambous Virieux      MU     84.20                broken clouds   \n",
       "800              Richards Bay      ZA     82.02                    clear sky   \n",
       "802               Port-Gentil      GA     82.40                   few clouds   \n",
       "804                    Avarua      CK     77.00                broken clouds   \n",
       "805                 Abu Dhabi      AE     75.20                    clear sky   \n",
       "809             Pozo Colorado      PY     76.44              overcast clouds   \n",
       "816                 Bathsheba      BB     75.20                broken clouds   \n",
       "818                Itupiranga      BR     75.20                    clear sky   \n",
       "820                  Souillac      MU     84.20                broken clouds   \n",
       "826                     Natal      BR     77.00                broken clouds   \n",
       "828                 Hithadhoo      MV     82.54             scattered clouds   \n",
       "829                  Bengkulu      ID     81.34         heavy intensity rain   \n",
       "830                 Mahebourg      MU     84.20                broken clouds   \n",
       "831                    Noumea      NC     80.60                    clear sky   \n",
       "840                 Panlaitan      PH     81.95              overcast clouds   \n",
       "844                  Cyangugu      RW     75.81                   light rain   \n",
       "846  Sao Jose Da Coroa Grande      BR     78.62                broken clouds   \n",
       "850                   Isangel      VU     79.14                   few clouds   \n",
       "852           Arraial Do Cabo      BR     75.20                    clear sky   \n",
       "853                    Bonoua      CI     84.20                   light rain   \n",
       "856                    Banjar      ID     84.20                   few clouds   \n",
       "862                    Kigoma      TZ     80.60                   light rain   \n",
       "866                  Maragogi      BR     78.66                broken clouds   \n",
       "868                 Wattegama      LK     82.40  light intensity shower rain   \n",
       "\n",
       "       Lat     Lng Hotel Name  \n",
       "702 -34.00   24.73             \n",
       "704  11.00  122.67             \n",
       "706 -34.53   20.04             \n",
       "707  11.79    7.62             \n",
       "710 -21.20 -175.20             \n",
       "711  -3.55  143.63             \n",
       "713  22.08 -159.32             \n",
       "715 -20.01   57.66             \n",
       "716 -34.42   19.23             \n",
       "718 -21.36   55.77             \n",
       "724 -33.65  115.33             \n",
       "726 -20.02  148.23             \n",
       "729 -23.12 -134.97             \n",
       "734   3.07  172.79             \n",
       "737 -33.93   18.42             \n",
       "738  -6.12  141.29             \n",
       "743  -3.54  118.97             \n",
       "744 -20.21   57.76             \n",
       "748 -19.06 -169.92             \n",
       "757  -2.57  150.80             \n",
       "758 -23.86   35.38             \n",
       "764  -6.98  -34.83             \n",
       "773   5.41  100.34             \n",
       "787  12.56  -12.17             \n",
       "793  -7.95  110.28             \n",
       "797  -9.80 -139.03             \n",
       "799 -20.34   57.76             \n",
       "800 -28.78   32.04             \n",
       "802  -0.72    8.78             \n",
       "804 -21.21 -159.78             \n",
       "805  24.47   54.37             \n",
       "809 -23.49  -58.80             \n",
       "816  13.22  -59.52             \n",
       "818  -5.13  -49.33             \n",
       "820 -20.52   57.52             \n",
       "826  -5.79  -35.21             \n",
       "828  -0.60   73.08             \n",
       "829  -3.80  102.27             \n",
       "830 -20.41   57.70             \n",
       "831 -22.28  166.46             \n",
       "840  12.12  119.85             \n",
       "844  -2.48   28.91             \n",
       "846  -8.90  -35.15             \n",
       "850 -19.55  169.27             \n",
       "852 -22.97  -42.03             \n",
       "853   5.27   -3.60             \n",
       "856  -8.19  114.97             \n",
       "862  -4.88   29.63             \n",
       "866  -9.01  -35.22             \n",
       "868   6.80   81.48             "
      ],
      "text/html": "<div>\n<style scoped>\n    .dataframe tbody tr th:only-of-type {\n        vertical-align: middle;\n    }\n\n    .dataframe tbody tr th {\n        vertical-align: top;\n    }\n\n    .dataframe thead th {\n        text-align: right;\n    }\n</style>\n<table border=\"1\" class=\"dataframe\">\n  <thead>\n    <tr style=\"text-align: right;\">\n      <th></th>\n      <th>City</th>\n      <th>Country</th>\n      <th>Max Temp</th>\n      <th>Current Description</th>\n      <th>Lat</th>\n      <th>Lng</th>\n      <th>Hotel Name</th>\n    </tr>\n  </thead>\n  <tbody>\n    <tr>\n      <th>702</th>\n      <td>Kruisfontein</td>\n      <td>ZA</td>\n      <td>80.01</td>\n      <td>clear sky</td>\n      <td>-34.00</td>\n      <td>24.73</td>\n      <td></td>\n    </tr>\n    <tr>\n      <th>704</th>\n      <td>Dingle</td>\n      <td>PH</td>\n      <td>78.03</td>\n      <td>light rain</td>\n      <td>11.00</td>\n      <td>122.67</td>\n      <td></td>\n    </tr>\n    <tr>\n      <th>706</th>\n      <td>Bredasdorp</td>\n      <td>ZA</td>\n      <td>75.20</td>\n      <td>clear sky</td>\n      <td>-34.53</td>\n      <td>20.04</td>\n      <td></td>\n    </tr>\n    <tr>\n      <th>707</th>\n      <td>Malumfashi</td>\n      <td>NG</td>\n      <td>77.29</td>\n      <td>clear sky</td>\n      <td>11.79</td>\n      <td>7.62</td>\n      <td></td>\n    </tr>\n    <tr>\n      <th>710</th>\n      <td>Vaini</td>\n      <td>TO</td>\n      <td>78.80</td>\n      <td>light rain</td>\n      <td>-21.20</td>\n      <td>-175.20</td>\n      <td></td>\n    </tr>\n    <tr>\n      <th>711</th>\n      <td>Wewak</td>\n      <td>PG</td>\n      <td>81.30</td>\n      <td>scattered clouds</td>\n      <td>-3.55</td>\n      <td>143.63</td>\n      <td></td>\n    </tr>\n    <tr>\n      <th>713</th>\n      <td>Kapaa</td>\n      <td>US</td>\n      <td>75.20</td>\n      <td>clear sky</td>\n      <td>22.08</td>\n      <td>-159.32</td>\n      <td></td>\n    </tr>\n    <tr>\n      <th>715</th>\n      <td>Grand Gaube</td>\n      <td>MU</td>\n      <td>82.00</td>\n      <td>overcast clouds</td>\n      <td>-20.01</td>\n      <td>57.66</td>\n      <td></td>\n    </tr>\n    <tr>\n      <th>716</th>\n      <td>Hermanus</td>\n      <td>ZA</td>\n      <td>81.00</td>\n      <td>clear sky</td>\n      <td>-34.42</td>\n      <td>19.23</td>\n      <td></td>\n    </tr>\n    <tr>\n      <th>718</th>\n      <td>Saint-Philippe</td>\n      <td>RE</td>\n      <td>87.80</td>\n      <td>light rain</td>\n      <td>-21.36</td>\n      <td>55.77</td>\n      <td></td>\n    </tr>\n    <tr>\n      <th>724</th>\n      <td>Busselton</td>\n      <td>AU</td>\n      <td>84.00</td>\n      <td>broken clouds</td>\n      <td>-33.65</td>\n      <td>115.33</td>\n      <td></td>\n    </tr>\n    <tr>\n      <th>726</th>\n      <td>Bowen</td>\n      <td>AU</td>\n      <td>80.60</td>\n      <td>scattered clouds</td>\n      <td>-20.02</td>\n      <td>148.23</td>\n      <td></td>\n    </tr>\n    <tr>\n      <th>729</th>\n      <td>Rikitea</td>\n      <td>PF</td>\n      <td>78.55</td>\n      <td>light rain</td>\n      <td>-23.12</td>\n      <td>-134.97</td>\n      <td></td>\n    </tr>\n    <tr>\n      <th>734</th>\n      <td>Butaritari</td>\n      <td>KI</td>\n      <td>81.30</td>\n      <td>light rain</td>\n      <td>3.07</td>\n      <td>172.79</td>\n      <td></td>\n    </tr>\n    <tr>\n      <th>737</th>\n      <td>Cape Town</td>\n      <td>ZA</td>\n      <td>75.20</td>\n      <td>clear sky</td>\n      <td>-33.93</td>\n      <td>18.42</td>\n      <td></td>\n    </tr>\n    <tr>\n      <th>738</th>\n      <td>Kiunga</td>\n      <td>PG</td>\n      <td>80.19</td>\n      <td>broken clouds</td>\n      <td>-6.12</td>\n      <td>141.29</td>\n      <td></td>\n    </tr>\n    <tr>\n      <th>743</th>\n      <td>Majene</td>\n      <td>ID</td>\n      <td>81.66</td>\n      <td>overcast clouds</td>\n      <td>-3.54</td>\n      <td>118.97</td>\n      <td></td>\n    </tr>\n    <tr>\n      <th>744</th>\n      <td>Quatre Cocos</td>\n      <td>MU</td>\n      <td>84.20</td>\n      <td>broken clouds</td>\n      <td>-20.21</td>\n      <td>57.76</td>\n      <td></td>\n    </tr>\n    <tr>\n      <th>748</th>\n      <td>Alofi</td>\n      <td>NU</td>\n      <td>77.00</td>\n      <td>light rain</td>\n      <td>-19.06</td>\n      <td>-169.92</td>\n      <td></td>\n    </tr>\n    <tr>\n      <th>757</th>\n      <td>Kavieng</td>\n      <td>PG</td>\n      <td>84.33</td>\n      <td>broken clouds</td>\n      <td>-2.57</td>\n      <td>150.80</td>\n      <td></td>\n    </tr>\n    <tr>\n      <th>758</th>\n      <td>Inhambane</td>\n      <td>MZ</td>\n      <td>89.60</td>\n      <td>few clouds</td>\n      <td>-23.86</td>\n      <td>35.38</td>\n      <td></td>\n    </tr>\n    <tr>\n      <th>764</th>\n      <td>Cabedelo</td>\n      <td>BR</td>\n      <td>78.80</td>\n      <td>few clouds</td>\n      <td>-6.98</td>\n      <td>-34.83</td>\n      <td></td>\n    </tr>\n    <tr>\n      <th>773</th>\n      <td>Georgetown</td>\n      <td>MY</td>\n      <td>87.80</td>\n      <td>few clouds</td>\n      <td>5.41</td>\n      <td>100.34</td>\n      <td></td>\n    </tr>\n    <tr>\n      <th>787</th>\n      <td>Kedougou</td>\n      <td>SN</td>\n      <td>78.80</td>\n      <td>clear sky</td>\n      <td>12.56</td>\n      <td>-12.17</td>\n      <td></td>\n    </tr>\n    <tr>\n      <th>793</th>\n      <td>Bambanglipuro</td>\n      <td>ID</td>\n      <td>81.46</td>\n      <td>overcast clouds</td>\n      <td>-7.95</td>\n      <td>110.28</td>\n      <td></td>\n    </tr>\n    <tr>\n      <th>797</th>\n      <td>Atuona</td>\n      <td>PF</td>\n      <td>78.03</td>\n      <td>clear sky</td>\n      <td>-9.80</td>\n      <td>-139.03</td>\n      <td></td>\n    </tr>\n    <tr>\n      <th>799</th>\n      <td>Bambous Virieux</td>\n      <td>MU</td>\n      <td>84.20</td>\n      <td>broken clouds</td>\n      <td>-20.34</td>\n      <td>57.76</td>\n      <td></td>\n    </tr>\n    <tr>\n      <th>800</th>\n      <td>Richards Bay</td>\n      <td>ZA</td>\n      <td>82.02</td>\n      <td>clear sky</td>\n      <td>-28.78</td>\n      <td>32.04</td>\n      <td></td>\n    </tr>\n    <tr>\n      <th>802</th>\n      <td>Port-Gentil</td>\n      <td>GA</td>\n      <td>82.40</td>\n      <td>few clouds</td>\n      <td>-0.72</td>\n      <td>8.78</td>\n      <td></td>\n    </tr>\n    <tr>\n      <th>804</th>\n      <td>Avarua</td>\n      <td>CK</td>\n      <td>77.00</td>\n      <td>broken clouds</td>\n      <td>-21.21</td>\n      <td>-159.78</td>\n      <td></td>\n    </tr>\n    <tr>\n      <th>805</th>\n      <td>Abu Dhabi</td>\n      <td>AE</td>\n      <td>75.20</td>\n      <td>clear sky</td>\n      <td>24.47</td>\n      <td>54.37</td>\n      <td></td>\n    </tr>\n    <tr>\n      <th>809</th>\n      <td>Pozo Colorado</td>\n      <td>PY</td>\n      <td>76.44</td>\n      <td>overcast clouds</td>\n      <td>-23.49</td>\n      <td>-58.80</td>\n      <td></td>\n    </tr>\n    <tr>\n      <th>816</th>\n      <td>Bathsheba</td>\n      <td>BB</td>\n      <td>75.20</td>\n      <td>broken clouds</td>\n      <td>13.22</td>\n      <td>-59.52</td>\n      <td></td>\n    </tr>\n    <tr>\n      <th>818</th>\n      <td>Itupiranga</td>\n      <td>BR</td>\n      <td>75.20</td>\n      <td>clear sky</td>\n      <td>-5.13</td>\n      <td>-49.33</td>\n      <td></td>\n    </tr>\n    <tr>\n      <th>820</th>\n      <td>Souillac</td>\n      <td>MU</td>\n      <td>84.20</td>\n      <td>broken clouds</td>\n      <td>-20.52</td>\n      <td>57.52</td>\n      <td></td>\n    </tr>\n    <tr>\n      <th>826</th>\n      <td>Natal</td>\n      <td>BR</td>\n      <td>77.00</td>\n      <td>broken clouds</td>\n      <td>-5.79</td>\n      <td>-35.21</td>\n      <td></td>\n    </tr>\n    <tr>\n      <th>828</th>\n      <td>Hithadhoo</td>\n      <td>MV</td>\n      <td>82.54</td>\n      <td>scattered clouds</td>\n      <td>-0.60</td>\n      <td>73.08</td>\n      <td></td>\n    </tr>\n    <tr>\n      <th>829</th>\n      <td>Bengkulu</td>\n      <td>ID</td>\n      <td>81.34</td>\n      <td>heavy intensity rain</td>\n      <td>-3.80</td>\n      <td>102.27</td>\n      <td></td>\n    </tr>\n    <tr>\n      <th>830</th>\n      <td>Mahebourg</td>\n      <td>MU</td>\n      <td>84.20</td>\n      <td>broken clouds</td>\n      <td>-20.41</td>\n      <td>57.70</td>\n      <td></td>\n    </tr>\n    <tr>\n      <th>831</th>\n      <td>Noumea</td>\n      <td>NC</td>\n      <td>80.60</td>\n      <td>clear sky</td>\n      <td>-22.28</td>\n      <td>166.46</td>\n      <td></td>\n    </tr>\n    <tr>\n      <th>840</th>\n      <td>Panlaitan</td>\n      <td>PH</td>\n      <td>81.95</td>\n      <td>overcast clouds</td>\n      <td>12.12</td>\n      <td>119.85</td>\n      <td></td>\n    </tr>\n    <tr>\n      <th>844</th>\n      <td>Cyangugu</td>\n      <td>RW</td>\n      <td>75.81</td>\n      <td>light rain</td>\n      <td>-2.48</td>\n      <td>28.91</td>\n      <td></td>\n    </tr>\n    <tr>\n      <th>846</th>\n      <td>Sao Jose Da Coroa Grande</td>\n      <td>BR</td>\n      <td>78.62</td>\n      <td>broken clouds</td>\n      <td>-8.90</td>\n      <td>-35.15</td>\n      <td></td>\n    </tr>\n    <tr>\n      <th>850</th>\n      <td>Isangel</td>\n      <td>VU</td>\n      <td>79.14</td>\n      <td>few clouds</td>\n      <td>-19.55</td>\n      <td>169.27</td>\n      <td></td>\n    </tr>\n    <tr>\n      <th>852</th>\n      <td>Arraial Do Cabo</td>\n      <td>BR</td>\n      <td>75.20</td>\n      <td>clear sky</td>\n      <td>-22.97</td>\n      <td>-42.03</td>\n      <td></td>\n    </tr>\n    <tr>\n      <th>853</th>\n      <td>Bonoua</td>\n      <td>CI</td>\n      <td>84.20</td>\n      <td>light rain</td>\n      <td>5.27</td>\n      <td>-3.60</td>\n      <td></td>\n    </tr>\n    <tr>\n      <th>856</th>\n      <td>Banjar</td>\n      <td>ID</td>\n      <td>84.20</td>\n      <td>few clouds</td>\n      <td>-8.19</td>\n      <td>114.97</td>\n      <td></td>\n    </tr>\n    <tr>\n      <th>862</th>\n      <td>Kigoma</td>\n      <td>TZ</td>\n      <td>80.60</td>\n      <td>light rain</td>\n      <td>-4.88</td>\n      <td>29.63</td>\n      <td></td>\n    </tr>\n    <tr>\n      <th>866</th>\n      <td>Maragogi</td>\n      <td>BR</td>\n      <td>78.66</td>\n      <td>broken clouds</td>\n      <td>-9.01</td>\n      <td>-35.22</td>\n      <td></td>\n    </tr>\n    <tr>\n      <th>868</th>\n      <td>Wattegama</td>\n      <td>LK</td>\n      <td>82.40</td>\n      <td>light intensity shower rain</td>\n      <td>6.80</td>\n      <td>81.48</td>\n      <td></td>\n    </tr>\n  </tbody>\n</table>\n</div>"
     },
     "metadata": {},
     "execution_count": 42
    }
   ],
   "source": [
    "clean_hotel_df.head(50)"
   ]
  },
  {
   "cell_type": "code",
   "execution_count": 44,
   "metadata": {},
   "outputs": [],
   "source": [
    "# 8a. Create the output File (CSV)\n",
    "output_data_file = \"Vacation_Search/WeatherPy_vacation.csv\"\n",
    "# 8b. Export the City_Data into a csv\n",
    "clean_hotel_df.to_csv(output_data_file, index_label=\"City_ID\")"
   ]
  },
  {
   "cell_type": "code",
   "execution_count": 11,
   "metadata": {},
   "outputs": [],
   "source": [
    "# 9. Using the template add city name, the country code, the weather description and maximum temperature for the city.\n",
    "info_box_template = \"\"\"\n",
    "\n",
    "\"\"\"\n",
    "\n",
    "# 10a. Get the data from each row and add it to the formatting template and store the data in a list.\n",
    "hotel_info = [info_box_template.format(**row) for index, row in clean_hotel_df.iterrows()]\n",
    "\n",
    "# 10b. Get the latitude and longitude from each row and store in a new DataFrame.\n",
    "locations = clean_hotel_df[[\"Lat\", \"Lng\"]]"
   ]
  },
  {
   "cell_type": "code",
   "execution_count": 12,
   "metadata": {},
   "outputs": [],
   "source": [
    "# 11a. Add a marker layer for each city to the map. \n",
    "\n",
    "# 11b. Display the figure\n"
   ]
  },
  {
   "cell_type": "code",
   "execution_count": null,
   "metadata": {},
   "outputs": [],
   "source": []
  },
  {
   "cell_type": "code",
   "execution_count": null,
   "metadata": {},
   "outputs": [],
   "source": []
  }
 ],
 "metadata": {
  "kernelspec": {
   "display_name": "PythonData",
   "language": "python",
   "name": "pythondata"
  },
  "language_info": {
   "codemirror_mode": {
    "name": "ipython",
    "version": 3
   },
   "file_extension": ".py",
   "mimetype": "text/x-python",
   "name": "python",
   "nbconvert_exporter": "python",
   "pygments_lexer": "ipython3",
   "version": "3.7.9-final"
  },
  "latex_envs": {
   "LaTeX_envs_menu_present": true,
   "autoclose": false,
   "autocomplete": true,
   "bibliofile": "biblio.bib",
   "cite_by": "apalike",
   "current_citInitial": 1,
   "eqLabelWithNumbers": true,
   "eqNumInitial": 1,
   "hotkeys": {
    "equation": "Ctrl-E",
    "itemize": "Ctrl-I"
   },
   "labels_anchors": false,
   "latex_user_defs": false,
   "report_style_numbering": false,
   "user_envs_cfg": false
  }
 },
 "nbformat": 4,
 "nbformat_minor": 2
}